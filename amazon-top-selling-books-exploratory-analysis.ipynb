{
 "cells": [
  {
   "cell_type": "code",
   "execution_count": 1,
   "id": "a5b9e3f6",
   "metadata": {
    "_cell_guid": "b1076dfc-b9ad-4769-8c92-a6c4dae69d19",
    "_uuid": "8f2839f25d086af736a60e9eeb907d3b93b6e0e5",
    "execution": {
     "iopub.execute_input": "2023-11-10T16:50:49.292393Z",
     "iopub.status.busy": "2023-11-10T16:50:49.291837Z",
     "iopub.status.idle": "2023-11-10T16:50:49.311862Z",
     "shell.execute_reply": "2023-11-10T16:50:49.310465Z"
    },
    "papermill": {
     "duration": 0.041931,
     "end_time": "2023-11-10T16:50:49.315290",
     "exception": false,
     "start_time": "2023-11-10T16:50:49.273359",
     "status": "completed"
    },
    "tags": []
   },
   "outputs": [
    {
     "name": "stdout",
     "output_type": "stream",
     "text": [
      "/kaggle/input/amazon-top-50-bestselling-books-2009-2022/bestsellers_with_categories_2022_03_27.csv\n"
     ]
    }
   ],
   "source": [
    "# This Python 3 environment comes with many helpful analytics libraries installed\n",
    "# It is defined by the kaggle/python Docker image: https://github.com/kaggle/docker-python\n",
    "# For example, here's several helpful packages to load\n",
    "\n",
    "import numpy as np # linear algebra\n",
    "import pandas as pd # data processing, CSV file I/O (e.g. pd.read_csv)\n",
    "\n",
    "# Input data files are available in the read-only \"../input/\" directory\n",
    "# For example, running this (by clicking run or pressing Shift+Enter) will list all files under the input directory\n",
    "\n",
    "import os\n",
    "for dirname, _, filenames in os.walk('/kaggle/input'):\n",
    "    for filename in filenames:\n",
    "        print(os.path.join(dirname, filename))\n",
    "\n",
    "# You can write up to 20GB to the current directory (/kaggle/working/) that gets preserved as output when you create a version using \"Save & Run All\" \n",
    "# You can also write temporary files to /kaggle/temp/, but they won't be saved outside of the current session"
   ]
  },
  {
   "cell_type": "markdown",
   "id": "605d5e66",
   "metadata": {
    "papermill": {
     "duration": 0.014461,
     "end_time": "2023-11-10T16:50:49.345158",
     "exception": false,
     "start_time": "2023-11-10T16:50:49.330697",
     "status": "completed"
    },
    "tags": []
   },
   "source": [
    "# 1. Importing and Understanding the Dataset"
   ]
  },
  {
   "cell_type": "markdown",
   "id": "c5a95857",
   "metadata": {
    "papermill": {
     "duration": 0.014499,
     "end_time": "2023-11-10T16:50:49.374830",
     "exception": false,
     "start_time": "2023-11-10T16:50:49.360331",
     "status": "completed"
    },
    "tags": []
   },
   "source": [
    "**About Dataset:**\n",
    "\n",
    "Amazon, the world’s no.1 e-commerce platform, offers best-selling books, new releases, and classics in every category including fiction, cookbooks, mystery, romance, thriller, historic, entrepreneurship, or books for kids.\n",
    "\n",
    "* Present dataset contains information of Amazon's Top 50 bestselling books from 2009 to 2022 \n",
    "* It contains list of 700 books and data is categorized into fiction and non-fiction using Goodreads\n",
    "\n",
    "**Columns of dataset are as follows:**\n",
    "\n",
    "There are 7 columns in a dataset, named as\n",
    "\n",
    "* **Name** : Title of the book \n",
    "* **Author** : Name of the Author \n",
    "* **User Rating** : Rating given by user for each book\n",
    "* **Reviews** : Total reviews recieved by users for each book\n",
    "* **Price** : Price of novel in dollars\n",
    "* **Year** : Year of Publishing\n",
    "* **Genre** : Genre of Book, categorized into fiction and non-fiction\n"
   ]
  },
  {
   "cell_type": "markdown",
   "id": "d6d1e78a",
   "metadata": {
    "papermill": {
     "duration": 0.014416,
     "end_time": "2023-11-10T16:50:49.405982",
     "exception": false,
     "start_time": "2023-11-10T16:50:49.391566",
     "status": "completed"
    },
    "tags": []
   },
   "source": [
    "**Initial step towards analysing dataset is to import and understand dataset**\n",
    "* pd.read_csv() method is used to import and read data in the form of dataframe\n",
    "* .info() method is used to get vital information and a concise summary of the dataframe regarding columns, their datatypes, null values present in a dataset and memory usage"
   ]
  },
  {
   "cell_type": "code",
   "execution_count": 2,
   "id": "96801236",
   "metadata": {
    "execution": {
     "iopub.execute_input": "2023-11-10T16:50:49.437901Z",
     "iopub.status.busy": "2023-11-10T16:50:49.437434Z",
     "iopub.status.idle": "2023-11-10T16:50:49.483686Z",
     "shell.execute_reply": "2023-11-10T16:50:49.482263Z"
    },
    "papermill": {
     "duration": 0.065935,
     "end_time": "2023-11-10T16:50:49.486661",
     "exception": false,
     "start_time": "2023-11-10T16:50:49.420726",
     "status": "completed"
    },
    "tags": []
   },
   "outputs": [
    {
     "data": {
      "text/html": [
       "<div>\n",
       "<style scoped>\n",
       "    .dataframe tbody tr th:only-of-type {\n",
       "        vertical-align: middle;\n",
       "    }\n",
       "\n",
       "    .dataframe tbody tr th {\n",
       "        vertical-align: top;\n",
       "    }\n",
       "\n",
       "    .dataframe thead th {\n",
       "        text-align: right;\n",
       "    }\n",
       "</style>\n",
       "<table border=\"1\" class=\"dataframe\">\n",
       "  <thead>\n",
       "    <tr style=\"text-align: right;\">\n",
       "      <th></th>\n",
       "      <th>Name</th>\n",
       "      <th>Author</th>\n",
       "      <th>User Rating</th>\n",
       "      <th>Reviews</th>\n",
       "      <th>Price</th>\n",
       "      <th>Year</th>\n",
       "      <th>Genre</th>\n",
       "    </tr>\n",
       "  </thead>\n",
       "  <tbody>\n",
       "    <tr>\n",
       "      <th>0</th>\n",
       "      <td>Act Like a Lady, Think Like a Man: What Men Re...</td>\n",
       "      <td>Steve Harvey</td>\n",
       "      <td>4.6</td>\n",
       "      <td>5013</td>\n",
       "      <td>17</td>\n",
       "      <td>2009</td>\n",
       "      <td>Non Fiction</td>\n",
       "    </tr>\n",
       "    <tr>\n",
       "      <th>1</th>\n",
       "      <td>Arguing with Idiots: How to Stop Small Minds a...</td>\n",
       "      <td>Glenn Beck</td>\n",
       "      <td>4.6</td>\n",
       "      <td>798</td>\n",
       "      <td>5</td>\n",
       "      <td>2009</td>\n",
       "      <td>Non Fiction</td>\n",
       "    </tr>\n",
       "    <tr>\n",
       "      <th>2</th>\n",
       "      <td>Breaking Dawn (The Twilight Saga, Book 4)</td>\n",
       "      <td>Stephenie Meyer</td>\n",
       "      <td>4.6</td>\n",
       "      <td>9769</td>\n",
       "      <td>13</td>\n",
       "      <td>2009</td>\n",
       "      <td>Fiction</td>\n",
       "    </tr>\n",
       "    <tr>\n",
       "      <th>3</th>\n",
       "      <td>Crazy Love: Overwhelmed by a Relentless God</td>\n",
       "      <td>Francis Chan</td>\n",
       "      <td>4.7</td>\n",
       "      <td>1542</td>\n",
       "      <td>14</td>\n",
       "      <td>2009</td>\n",
       "      <td>Non Fiction</td>\n",
       "    </tr>\n",
       "    <tr>\n",
       "      <th>4</th>\n",
       "      <td>Dead And Gone: A Sookie Stackhouse Novel (Sook...</td>\n",
       "      <td>Charlaine Harris</td>\n",
       "      <td>4.6</td>\n",
       "      <td>1541</td>\n",
       "      <td>4</td>\n",
       "      <td>2009</td>\n",
       "      <td>Fiction</td>\n",
       "    </tr>\n",
       "    <tr>\n",
       "      <th>...</th>\n",
       "      <td>...</td>\n",
       "      <td>...</td>\n",
       "      <td>...</td>\n",
       "      <td>...</td>\n",
       "      <td>...</td>\n",
       "      <td>...</td>\n",
       "      <td>...</td>\n",
       "    </tr>\n",
       "    <tr>\n",
       "      <th>695</th>\n",
       "      <td>The Wonderful Things You Will Be</td>\n",
       "      <td>Emily Winfield Martin</td>\n",
       "      <td>4.9</td>\n",
       "      <td>20920</td>\n",
       "      <td>9</td>\n",
       "      <td>2022</td>\n",
       "      <td>Fiction</td>\n",
       "    </tr>\n",
       "    <tr>\n",
       "      <th>696</th>\n",
       "      <td>Ugly Love: A Novel</td>\n",
       "      <td>Colleen Hoover</td>\n",
       "      <td>4.7</td>\n",
       "      <td>33929</td>\n",
       "      <td>10</td>\n",
       "      <td>2022</td>\n",
       "      <td>Fiction</td>\n",
       "    </tr>\n",
       "    <tr>\n",
       "      <th>697</th>\n",
       "      <td>Verity</td>\n",
       "      <td>Colleen Hoover</td>\n",
       "      <td>4.6</td>\n",
       "      <td>71826</td>\n",
       "      <td>11</td>\n",
       "      <td>2022</td>\n",
       "      <td>Fiction</td>\n",
       "    </tr>\n",
       "    <tr>\n",
       "      <th>698</th>\n",
       "      <td>What to Expect When You're Expecting</td>\n",
       "      <td>Heidi Murkoff</td>\n",
       "      <td>4.8</td>\n",
       "      <td>27052</td>\n",
       "      <td>13</td>\n",
       "      <td>2022</td>\n",
       "      <td>Non Fiction</td>\n",
       "    </tr>\n",
       "    <tr>\n",
       "      <th>699</th>\n",
       "      <td>Where the Crawdads Sing</td>\n",
       "      <td>Delia Owens</td>\n",
       "      <td>4.8</td>\n",
       "      <td>208917</td>\n",
       "      <td>10</td>\n",
       "      <td>2022</td>\n",
       "      <td>Fiction</td>\n",
       "    </tr>\n",
       "  </tbody>\n",
       "</table>\n",
       "<p>700 rows × 7 columns</p>\n",
       "</div>"
      ],
      "text/plain": [
       "                                                  Name                 Author  \\\n",
       "0    Act Like a Lady, Think Like a Man: What Men Re...           Steve Harvey   \n",
       "1    Arguing with Idiots: How to Stop Small Minds a...             Glenn Beck   \n",
       "2            Breaking Dawn (The Twilight Saga, Book 4)        Stephenie Meyer   \n",
       "3          Crazy Love: Overwhelmed by a Relentless God           Francis Chan   \n",
       "4    Dead And Gone: A Sookie Stackhouse Novel (Sook...       Charlaine Harris   \n",
       "..                                                 ...                    ...   \n",
       "695                   The Wonderful Things You Will Be  Emily Winfield Martin   \n",
       "696                                 Ugly Love: A Novel         Colleen Hoover   \n",
       "697                                             Verity         Colleen Hoover   \n",
       "698               What to Expect When You're Expecting          Heidi Murkoff   \n",
       "699                            Where the Crawdads Sing            Delia Owens   \n",
       "\n",
       "     User Rating  Reviews  Price  Year        Genre  \n",
       "0            4.6     5013     17  2009  Non Fiction  \n",
       "1            4.6      798      5  2009  Non Fiction  \n",
       "2            4.6     9769     13  2009      Fiction  \n",
       "3            4.7     1542     14  2009  Non Fiction  \n",
       "4            4.6     1541      4  2009      Fiction  \n",
       "..           ...      ...    ...   ...          ...  \n",
       "695          4.9    20920      9  2022      Fiction  \n",
       "696          4.7    33929     10  2022      Fiction  \n",
       "697          4.6    71826     11  2022      Fiction  \n",
       "698          4.8    27052     13  2022  Non Fiction  \n",
       "699          4.8   208917     10  2022      Fiction  \n",
       "\n",
       "[700 rows x 7 columns]"
      ]
     },
     "execution_count": 2,
     "metadata": {},
     "output_type": "execute_result"
    }
   ],
   "source": [
    "# Importing dataset - amazon-top-50-bestselling-books-2009-2022\n",
    "df = pd.read_csv(\"/kaggle/input/amazon-top-50-bestselling-books-2009-2022/bestsellers_with_categories_2022_03_27.csv\")\n",
    "df"
   ]
  },
  {
   "cell_type": "code",
   "execution_count": 3,
   "id": "d51e8d28",
   "metadata": {
    "execution": {
     "iopub.execute_input": "2023-11-10T16:50:49.519410Z",
     "iopub.status.busy": "2023-11-10T16:50:49.518949Z",
     "iopub.status.idle": "2023-11-10T16:50:49.546087Z",
     "shell.execute_reply": "2023-11-10T16:50:49.544854Z"
    },
    "papermill": {
     "duration": 0.046554,
     "end_time": "2023-11-10T16:50:49.548721",
     "exception": false,
     "start_time": "2023-11-10T16:50:49.502167",
     "status": "completed"
    },
    "tags": []
   },
   "outputs": [
    {
     "name": "stdout",
     "output_type": "stream",
     "text": [
      "<class 'pandas.core.frame.DataFrame'>\n",
      "RangeIndex: 700 entries, 0 to 699\n",
      "Data columns (total 7 columns):\n",
      " #   Column       Non-Null Count  Dtype  \n",
      "---  ------       --------------  -----  \n",
      " 0   Name         700 non-null    object \n",
      " 1   Author       700 non-null    object \n",
      " 2   User Rating  700 non-null    float64\n",
      " 3   Reviews      700 non-null    int64  \n",
      " 4   Price        700 non-null    int64  \n",
      " 5   Year         700 non-null    int64  \n",
      " 6   Genre        700 non-null    object \n",
      "dtypes: float64(1), int64(3), object(3)\n",
      "memory usage: 38.4+ KB\n"
     ]
    }
   ],
   "source": [
    "# concise summary of dataframe\n",
    "df.info()"
   ]
  },
  {
   "cell_type": "markdown",
   "id": "19b94c7e",
   "metadata": {
    "papermill": {
     "duration": 0.0152,
     "end_time": "2023-11-10T16:50:49.579323",
     "exception": false,
     "start_time": "2023-11-10T16:50:49.564123",
     "status": "completed"
    },
    "tags": []
   },
   "source": [
    "* Dataset contains seven columns with 700 entries in each column\n",
    "* No null records are present in any column\n",
    "* Datatype assigned to each column are appropriate"
   ]
  },
  {
   "cell_type": "markdown",
   "id": "25eb5199",
   "metadata": {
    "papermill": {
     "duration": 0.015328,
     "end_time": "2023-11-10T16:50:49.610208",
     "exception": false,
     "start_time": "2023-11-10T16:50:49.594880",
     "status": "completed"
    },
    "tags": []
   },
   "source": [
    "# 2. Data Cleaning and Preparation"
   ]
  },
  {
   "cell_type": "markdown",
   "id": "11e093d8",
   "metadata": {
    "papermill": {
     "duration": 0.014949,
     "end_time": "2023-11-10T16:50:49.640484",
     "exception": false,
     "start_time": "2023-11-10T16:50:49.625535",
     "status": "completed"
    },
    "tags": []
   },
   "source": [
    "Data Preparation and Cleaning are crucial steps before EDA\n",
    "* It helps in improving the quality of data by removing and replacing errors, missing values and duplicate records\n",
    "* It makes dataset comprehensive and precise\n",
    "\n",
    "**Following steps are performed:**\n",
    "\n",
    "* Finding duplicate values using .duplicated() method\n",
    "* Renaming column name using .rename() method\n"
   ]
  },
  {
   "cell_type": "code",
   "execution_count": 4,
   "id": "39818ea9",
   "metadata": {
    "execution": {
     "iopub.execute_input": "2023-11-10T16:50:49.673084Z",
     "iopub.status.busy": "2023-11-10T16:50:49.672615Z",
     "iopub.status.idle": "2023-11-10T16:50:49.689618Z",
     "shell.execute_reply": "2023-11-10T16:50:49.688436Z"
    },
    "papermill": {
     "duration": 0.036437,
     "end_time": "2023-11-10T16:50:49.692288",
     "exception": false,
     "start_time": "2023-11-10T16:50:49.655851",
     "status": "completed"
    },
    "tags": []
   },
   "outputs": [
    {
     "data": {
      "text/html": [
       "<div>\n",
       "<style scoped>\n",
       "    .dataframe tbody tr th:only-of-type {\n",
       "        vertical-align: middle;\n",
       "    }\n",
       "\n",
       "    .dataframe tbody tr th {\n",
       "        vertical-align: top;\n",
       "    }\n",
       "\n",
       "    .dataframe thead th {\n",
       "        text-align: right;\n",
       "    }\n",
       "</style>\n",
       "<table border=\"1\" class=\"dataframe\">\n",
       "  <thead>\n",
       "    <tr style=\"text-align: right;\">\n",
       "      <th></th>\n",
       "      <th>Name</th>\n",
       "      <th>Author</th>\n",
       "      <th>User Rating</th>\n",
       "      <th>Reviews</th>\n",
       "      <th>Price</th>\n",
       "      <th>Year</th>\n",
       "      <th>Genre</th>\n",
       "    </tr>\n",
       "  </thead>\n",
       "  <tbody>\n",
       "  </tbody>\n",
       "</table>\n",
       "</div>"
      ],
      "text/plain": [
       "Empty DataFrame\n",
       "Columns: [Name, Author, User Rating, Reviews, Price, Year, Genre]\n",
       "Index: []"
      ]
     },
     "execution_count": 4,
     "metadata": {},
     "output_type": "execute_result"
    }
   ],
   "source": [
    "# Checking duplicate records\n",
    "df[df.duplicated()]"
   ]
  },
  {
   "cell_type": "code",
   "execution_count": 5,
   "id": "6ab4c128",
   "metadata": {
    "execution": {
     "iopub.execute_input": "2023-11-10T16:50:49.725399Z",
     "iopub.status.busy": "2023-11-10T16:50:49.724937Z",
     "iopub.status.idle": "2023-11-10T16:50:49.731416Z",
     "shell.execute_reply": "2023-11-10T16:50:49.729928Z"
    },
    "papermill": {
     "duration": 0.026174,
     "end_time": "2023-11-10T16:50:49.734066",
     "exception": false,
     "start_time": "2023-11-10T16:50:49.707892",
     "status": "completed"
    },
    "tags": []
   },
   "outputs": [],
   "source": [
    "# Renaming column\n",
    "df.rename(columns = {\"Price\":\"Price($)\"},inplace = True, errors = \"raise\")"
   ]
  },
  {
   "cell_type": "code",
   "execution_count": 6,
   "id": "26f86f26",
   "metadata": {
    "execution": {
     "iopub.execute_input": "2023-11-10T16:50:49.767473Z",
     "iopub.status.busy": "2023-11-10T16:50:49.767077Z",
     "iopub.status.idle": "2023-11-10T16:50:49.788238Z",
     "shell.execute_reply": "2023-11-10T16:50:49.786910Z"
    },
    "papermill": {
     "duration": 0.040962,
     "end_time": "2023-11-10T16:50:49.790796",
     "exception": false,
     "start_time": "2023-11-10T16:50:49.749834",
     "status": "completed"
    },
    "tags": []
   },
   "outputs": [
    {
     "data": {
      "text/html": [
       "<div>\n",
       "<style scoped>\n",
       "    .dataframe tbody tr th:only-of-type {\n",
       "        vertical-align: middle;\n",
       "    }\n",
       "\n",
       "    .dataframe tbody tr th {\n",
       "        vertical-align: top;\n",
       "    }\n",
       "\n",
       "    .dataframe thead th {\n",
       "        text-align: right;\n",
       "    }\n",
       "</style>\n",
       "<table border=\"1\" class=\"dataframe\">\n",
       "  <thead>\n",
       "    <tr style=\"text-align: right;\">\n",
       "      <th></th>\n",
       "      <th>Name</th>\n",
       "      <th>Author</th>\n",
       "      <th>User Rating</th>\n",
       "      <th>Reviews</th>\n",
       "      <th>Price($)</th>\n",
       "      <th>Year</th>\n",
       "      <th>Genre</th>\n",
       "    </tr>\n",
       "  </thead>\n",
       "  <tbody>\n",
       "    <tr>\n",
       "      <th>0</th>\n",
       "      <td>Act Like a Lady, Think Like a Man: What Men Re...</td>\n",
       "      <td>Steve Harvey</td>\n",
       "      <td>4.6</td>\n",
       "      <td>5013</td>\n",
       "      <td>17</td>\n",
       "      <td>2009</td>\n",
       "      <td>Non Fiction</td>\n",
       "    </tr>\n",
       "    <tr>\n",
       "      <th>1</th>\n",
       "      <td>Arguing with Idiots: How to Stop Small Minds a...</td>\n",
       "      <td>Glenn Beck</td>\n",
       "      <td>4.6</td>\n",
       "      <td>798</td>\n",
       "      <td>5</td>\n",
       "      <td>2009</td>\n",
       "      <td>Non Fiction</td>\n",
       "    </tr>\n",
       "    <tr>\n",
       "      <th>2</th>\n",
       "      <td>Breaking Dawn (The Twilight Saga, Book 4)</td>\n",
       "      <td>Stephenie Meyer</td>\n",
       "      <td>4.6</td>\n",
       "      <td>9769</td>\n",
       "      <td>13</td>\n",
       "      <td>2009</td>\n",
       "      <td>Fiction</td>\n",
       "    </tr>\n",
       "    <tr>\n",
       "      <th>3</th>\n",
       "      <td>Crazy Love: Overwhelmed by a Relentless God</td>\n",
       "      <td>Francis Chan</td>\n",
       "      <td>4.7</td>\n",
       "      <td>1542</td>\n",
       "      <td>14</td>\n",
       "      <td>2009</td>\n",
       "      <td>Non Fiction</td>\n",
       "    </tr>\n",
       "    <tr>\n",
       "      <th>4</th>\n",
       "      <td>Dead And Gone: A Sookie Stackhouse Novel (Sook...</td>\n",
       "      <td>Charlaine Harris</td>\n",
       "      <td>4.6</td>\n",
       "      <td>1541</td>\n",
       "      <td>4</td>\n",
       "      <td>2009</td>\n",
       "      <td>Fiction</td>\n",
       "    </tr>\n",
       "    <tr>\n",
       "      <th>...</th>\n",
       "      <td>...</td>\n",
       "      <td>...</td>\n",
       "      <td>...</td>\n",
       "      <td>...</td>\n",
       "      <td>...</td>\n",
       "      <td>...</td>\n",
       "      <td>...</td>\n",
       "    </tr>\n",
       "    <tr>\n",
       "      <th>695</th>\n",
       "      <td>The Wonderful Things You Will Be</td>\n",
       "      <td>Emily Winfield Martin</td>\n",
       "      <td>4.9</td>\n",
       "      <td>20920</td>\n",
       "      <td>9</td>\n",
       "      <td>2022</td>\n",
       "      <td>Fiction</td>\n",
       "    </tr>\n",
       "    <tr>\n",
       "      <th>696</th>\n",
       "      <td>Ugly Love: A Novel</td>\n",
       "      <td>Colleen Hoover</td>\n",
       "      <td>4.7</td>\n",
       "      <td>33929</td>\n",
       "      <td>10</td>\n",
       "      <td>2022</td>\n",
       "      <td>Fiction</td>\n",
       "    </tr>\n",
       "    <tr>\n",
       "      <th>697</th>\n",
       "      <td>Verity</td>\n",
       "      <td>Colleen Hoover</td>\n",
       "      <td>4.6</td>\n",
       "      <td>71826</td>\n",
       "      <td>11</td>\n",
       "      <td>2022</td>\n",
       "      <td>Fiction</td>\n",
       "    </tr>\n",
       "    <tr>\n",
       "      <th>698</th>\n",
       "      <td>What to Expect When You're Expecting</td>\n",
       "      <td>Heidi Murkoff</td>\n",
       "      <td>4.8</td>\n",
       "      <td>27052</td>\n",
       "      <td>13</td>\n",
       "      <td>2022</td>\n",
       "      <td>Non Fiction</td>\n",
       "    </tr>\n",
       "    <tr>\n",
       "      <th>699</th>\n",
       "      <td>Where the Crawdads Sing</td>\n",
       "      <td>Delia Owens</td>\n",
       "      <td>4.8</td>\n",
       "      <td>208917</td>\n",
       "      <td>10</td>\n",
       "      <td>2022</td>\n",
       "      <td>Fiction</td>\n",
       "    </tr>\n",
       "  </tbody>\n",
       "</table>\n",
       "<p>700 rows × 7 columns</p>\n",
       "</div>"
      ],
      "text/plain": [
       "                                                  Name                 Author  \\\n",
       "0    Act Like a Lady, Think Like a Man: What Men Re...           Steve Harvey   \n",
       "1    Arguing with Idiots: How to Stop Small Minds a...             Glenn Beck   \n",
       "2            Breaking Dawn (The Twilight Saga, Book 4)        Stephenie Meyer   \n",
       "3          Crazy Love: Overwhelmed by a Relentless God           Francis Chan   \n",
       "4    Dead And Gone: A Sookie Stackhouse Novel (Sook...       Charlaine Harris   \n",
       "..                                                 ...                    ...   \n",
       "695                   The Wonderful Things You Will Be  Emily Winfield Martin   \n",
       "696                                 Ugly Love: A Novel         Colleen Hoover   \n",
       "697                                             Verity         Colleen Hoover   \n",
       "698               What to Expect When You're Expecting          Heidi Murkoff   \n",
       "699                            Where the Crawdads Sing            Delia Owens   \n",
       "\n",
       "     User Rating  Reviews  Price($)  Year        Genre  \n",
       "0            4.6     5013        17  2009  Non Fiction  \n",
       "1            4.6      798         5  2009  Non Fiction  \n",
       "2            4.6     9769        13  2009      Fiction  \n",
       "3            4.7     1542        14  2009  Non Fiction  \n",
       "4            4.6     1541         4  2009      Fiction  \n",
       "..           ...      ...       ...   ...          ...  \n",
       "695          4.9    20920         9  2022      Fiction  \n",
       "696          4.7    33929        10  2022      Fiction  \n",
       "697          4.6    71826        11  2022      Fiction  \n",
       "698          4.8    27052        13  2022  Non Fiction  \n",
       "699          4.8   208917        10  2022      Fiction  \n",
       "\n",
       "[700 rows x 7 columns]"
      ]
     },
     "execution_count": 6,
     "metadata": {},
     "output_type": "execute_result"
    }
   ],
   "source": [
    "df"
   ]
  },
  {
   "cell_type": "markdown",
   "id": "3a60d3e4",
   "metadata": {
    "papermill": {
     "duration": 0.016258,
     "end_time": "2023-11-10T16:50:49.823489",
     "exception": false,
     "start_time": "2023-11-10T16:50:49.807231",
     "status": "completed"
    },
    "tags": []
   },
   "source": [
    "# 3. Exploratory Data Analysis and Visualization"
   ]
  },
  {
   "cell_type": "markdown",
   "id": "cadc45c3",
   "metadata": {
    "papermill": {
     "duration": 0.015688,
     "end_time": "2023-11-10T16:50:49.855176",
     "exception": false,
     "start_time": "2023-11-10T16:50:49.839488",
     "status": "completed"
    },
    "tags": []
   },
   "source": [
    "* Exploratory Data Analysis is a critical process of performing initial investigations on data \n",
    "* It summaries main characteristics of data with the help of statistics and graphical representations\n",
    "* It lets us discover hidden patterns ,trends and outliers in a dataset"
   ]
  },
  {
   "cell_type": "markdown",
   "id": "efa0dd5e",
   "metadata": {
    "papermill": {
     "duration": 0.015544,
     "end_time": "2023-11-10T16:50:49.886754",
     "exception": false,
     "start_time": "2023-11-10T16:50:49.871210",
     "status": "completed"
    },
    "tags": []
   },
   "source": [
    "**a. Statistical Analysis**\n",
    "\n",
    ".describe() method is used to obtain aggregated values of columns containing quantitative values"
   ]
  },
  {
   "cell_type": "code",
   "execution_count": 7,
   "id": "1d409b03",
   "metadata": {
    "execution": {
     "iopub.execute_input": "2023-11-10T16:50:49.920483Z",
     "iopub.status.busy": "2023-11-10T16:50:49.920027Z",
     "iopub.status.idle": "2023-11-10T16:50:49.952198Z",
     "shell.execute_reply": "2023-11-10T16:50:49.951160Z"
    },
    "papermill": {
     "duration": 0.051948,
     "end_time": "2023-11-10T16:50:49.954629",
     "exception": false,
     "start_time": "2023-11-10T16:50:49.902681",
     "status": "completed"
    },
    "tags": []
   },
   "outputs": [
    {
     "data": {
      "text/html": [
       "<div>\n",
       "<style scoped>\n",
       "    .dataframe tbody tr th:only-of-type {\n",
       "        vertical-align: middle;\n",
       "    }\n",
       "\n",
       "    .dataframe tbody tr th {\n",
       "        vertical-align: top;\n",
       "    }\n",
       "\n",
       "    .dataframe thead th {\n",
       "        text-align: right;\n",
       "    }\n",
       "</style>\n",
       "<table border=\"1\" class=\"dataframe\">\n",
       "  <thead>\n",
       "    <tr style=\"text-align: right;\">\n",
       "      <th></th>\n",
       "      <th>count</th>\n",
       "      <th>mean</th>\n",
       "      <th>std</th>\n",
       "      <th>min</th>\n",
       "      <th>25%</th>\n",
       "      <th>50%</th>\n",
       "      <th>75%</th>\n",
       "      <th>max</th>\n",
       "    </tr>\n",
       "  </thead>\n",
       "  <tbody>\n",
       "    <tr>\n",
       "      <th>User Rating</th>\n",
       "      <td>700.0</td>\n",
       "      <td>4.639857</td>\n",
       "      <td>0.218586</td>\n",
       "      <td>3.3</td>\n",
       "      <td>4.50</td>\n",
       "      <td>4.7</td>\n",
       "      <td>4.8</td>\n",
       "      <td>4.9</td>\n",
       "    </tr>\n",
       "    <tr>\n",
       "      <th>Reviews</th>\n",
       "      <td>700.0</td>\n",
       "      <td>19255.195714</td>\n",
       "      <td>23613.443875</td>\n",
       "      <td>37.0</td>\n",
       "      <td>4987.25</td>\n",
       "      <td>10284.0</td>\n",
       "      <td>23358.0</td>\n",
       "      <td>208917.0</td>\n",
       "    </tr>\n",
       "    <tr>\n",
       "      <th>Price($)</th>\n",
       "      <td>700.0</td>\n",
       "      <td>12.700000</td>\n",
       "      <td>9.915162</td>\n",
       "      <td>0.0</td>\n",
       "      <td>7.00</td>\n",
       "      <td>11.0</td>\n",
       "      <td>15.0</td>\n",
       "      <td>105.0</td>\n",
       "    </tr>\n",
       "    <tr>\n",
       "      <th>Year</th>\n",
       "      <td>700.0</td>\n",
       "      <td>2015.500000</td>\n",
       "      <td>4.034011</td>\n",
       "      <td>2009.0</td>\n",
       "      <td>2012.00</td>\n",
       "      <td>2015.5</td>\n",
       "      <td>2019.0</td>\n",
       "      <td>2022.0</td>\n",
       "    </tr>\n",
       "  </tbody>\n",
       "</table>\n",
       "</div>"
      ],
      "text/plain": [
       "             count          mean           std     min      25%      50%  \\\n",
       "User Rating  700.0      4.639857      0.218586     3.3     4.50      4.7   \n",
       "Reviews      700.0  19255.195714  23613.443875    37.0  4987.25  10284.0   \n",
       "Price($)     700.0     12.700000      9.915162     0.0     7.00     11.0   \n",
       "Year         700.0   2015.500000      4.034011  2009.0  2012.00   2015.5   \n",
       "\n",
       "                 75%       max  \n",
       "User Rating      4.8       4.9  \n",
       "Reviews      23358.0  208917.0  \n",
       "Price($)        15.0     105.0  \n",
       "Year          2019.0    2022.0  "
      ]
     },
     "execution_count": 7,
     "metadata": {},
     "output_type": "execute_result"
    }
   ],
   "source": [
    "df.describe().T"
   ]
  },
  {
   "cell_type": "markdown",
   "id": "90aea9fe",
   "metadata": {
    "papermill": {
     "duration": 0.016011,
     "end_time": "2023-11-10T16:50:49.986964",
     "exception": false,
     "start_time": "2023-11-10T16:50:49.970953",
     "status": "completed"
    },
    "tags": []
   },
   "source": [
    "**Following information can be inferred:**\n",
    "\n",
    "* Dataset consist of books which are published starting from the year 2009 to 2022\n",
    "* User ratings for books ranges from 3.3 to 4.9 out of 5\n",
    "* Minimum reviews for a particular book is 37 by users\n",
    "* Maximum number of reviews received by a particular book is 208917\n",
    "* Price of books ranges from 0 to 15 dollars\n",
    "* Amazon hardly sell free paperback or hardcover books, 0 dollar can be a price of an audiobook\n"
   ]
  },
  {
   "cell_type": "markdown",
   "id": "f552d695",
   "metadata": {
    "papermill": {
     "duration": 0.016163,
     "end_time": "2023-11-10T16:50:50.019587",
     "exception": false,
     "start_time": "2023-11-10T16:50:50.003424",
     "status": "completed"
    },
    "tags": []
   },
   "source": [
    "**b. Visualization**"
   ]
  },
  {
   "cell_type": "markdown",
   "id": "ba1427ad",
   "metadata": {
    "papermill": {
     "duration": 0.016009,
     "end_time": "2023-11-10T16:50:50.051925",
     "exception": false,
     "start_time": "2023-11-10T16:50:50.035916",
     "status": "completed"
    },
    "tags": []
   },
   "source": [
    "* Visualisation libraries give us the privilege to interact with the data by plotting various graphs\n",
    "* Through visualization, we can extract valuable insights and correlation between different columns\n",
    "\n",
    "**Here we are importing Matplotlib and Seaborn Libraries:**\n",
    "\n",
    "* Matplotlib plots various graphs using Pandas and Numpy\n",
    "* Seaborn is the extended version of Matplotlib, which uses Matplotlib, Numpy, and Pandas to plot graphs"
   ]
  },
  {
   "cell_type": "code",
   "execution_count": 8,
   "id": "a1b4b296",
   "metadata": {
    "execution": {
     "iopub.execute_input": "2023-11-10T16:50:50.086761Z",
     "iopub.status.busy": "2023-11-10T16:50:50.086347Z",
     "iopub.status.idle": "2023-11-10T16:50:51.257501Z",
     "shell.execute_reply": "2023-11-10T16:50:51.256218Z"
    },
    "papermill": {
     "duration": 1.192403,
     "end_time": "2023-11-10T16:50:51.260752",
     "exception": false,
     "start_time": "2023-11-10T16:50:50.068349",
     "status": "completed"
    },
    "tags": []
   },
   "outputs": [],
   "source": [
    "# Importing matplotlib and seaborn\n",
    "import seaborn as sns\n",
    "import matplotlib\n",
    "import matplotlib.pyplot as plt"
   ]
  },
  {
   "cell_type": "markdown",
   "id": "5909959e",
   "metadata": {
    "papermill": {
     "duration": 0.016126,
     "end_time": "2023-11-10T16:50:51.293555",
     "exception": false,
     "start_time": "2023-11-10T16:50:51.277429",
     "status": "completed"
    },
    "tags": []
   },
   "source": [
    "**a. Proportion of Fictional and Non-Fictional Books(2009-2022)**"
   ]
  },
  {
   "cell_type": "code",
   "execution_count": 9,
   "id": "56e1e230",
   "metadata": {
    "execution": {
     "iopub.execute_input": "2023-11-10T16:50:51.327975Z",
     "iopub.status.busy": "2023-11-10T16:50:51.327521Z",
     "iopub.status.idle": "2023-11-10T16:50:51.337208Z",
     "shell.execute_reply": "2023-11-10T16:50:51.335914Z"
    },
    "papermill": {
     "duration": 0.030315,
     "end_time": "2023-11-10T16:50:51.340116",
     "exception": false,
     "start_time": "2023-11-10T16:50:51.309801",
     "status": "completed"
    },
    "tags": []
   },
   "outputs": [
    {
     "data": {
      "text/plain": [
       "312"
      ]
     },
     "execution_count": 9,
     "metadata": {},
     "output_type": "execute_result"
    }
   ],
   "source": [
    "# Counting total number of fictional books\n",
    "fiction_len = len(df[df[\"Genre\"] == \"Fiction\"])\n",
    "fiction_len"
   ]
  },
  {
   "cell_type": "code",
   "execution_count": 10,
   "id": "c3329800",
   "metadata": {
    "execution": {
     "iopub.execute_input": "2023-11-10T16:50:51.374906Z",
     "iopub.status.busy": "2023-11-10T16:50:51.374489Z",
     "iopub.status.idle": "2023-11-10T16:50:51.383945Z",
     "shell.execute_reply": "2023-11-10T16:50:51.382911Z"
    },
    "papermill": {
     "duration": 0.029871,
     "end_time": "2023-11-10T16:50:51.386427",
     "exception": false,
     "start_time": "2023-11-10T16:50:51.356556",
     "status": "completed"
    },
    "tags": []
   },
   "outputs": [
    {
     "data": {
      "text/plain": [
       "388"
      ]
     },
     "execution_count": 10,
     "metadata": {},
     "output_type": "execute_result"
    }
   ],
   "source": [
    "# Counting total number of non -fictional books\n",
    "nonfiction_len = len(df[df[\"Genre\"] == \"Non Fiction\"])\n",
    "nonfiction_len"
   ]
  },
  {
   "cell_type": "code",
   "execution_count": 11,
   "id": "96b53b7f",
   "metadata": {
    "execution": {
     "iopub.execute_input": "2023-11-10T16:50:51.422505Z",
     "iopub.status.busy": "2023-11-10T16:50:51.421261Z",
     "iopub.status.idle": "2023-11-10T16:50:51.429977Z",
     "shell.execute_reply": "2023-11-10T16:50:51.428792Z"
    },
    "papermill": {
     "duration": 0.029244,
     "end_time": "2023-11-10T16:50:51.432347",
     "exception": false,
     "start_time": "2023-11-10T16:50:51.403103",
     "status": "completed"
    },
    "tags": []
   },
   "outputs": [
    {
     "data": {
      "text/plain": [
       "[312, 388]"
      ]
     },
     "execution_count": 11,
     "metadata": {},
     "output_type": "execute_result"
    }
   ],
   "source": [
    "data = [fiction_len,nonfiction_len]\n",
    "data"
   ]
  },
  {
   "cell_type": "code",
   "execution_count": 12,
   "id": "1548567c",
   "metadata": {
    "execution": {
     "iopub.execute_input": "2023-11-10T16:50:51.469383Z",
     "iopub.status.busy": "2023-11-10T16:50:51.468643Z",
     "iopub.status.idle": "2023-11-10T16:50:51.751636Z",
     "shell.execute_reply": "2023-11-10T16:50:51.750459Z"
    },
    "papermill": {
     "duration": 0.304503,
     "end_time": "2023-11-10T16:50:51.754237",
     "exception": false,
     "start_time": "2023-11-10T16:50:51.449734",
     "status": "completed"
    },
    "tags": []
   },
   "outputs": [
    {
     "name": "stderr",
     "output_type": "stream",
     "text": [
      "/opt/conda/lib/python3.7/site-packages/ipykernel_launcher.py:9: UserWarning: You have mixed positional and keyword arguments, some input may be discarded.\n",
      "  if __name__ == \"__main__\":\n"
     ]
    },
    {
     "data": {
      "image/png": "[encoded data removed]",
      "text/plain": [
       "<Figure size 1440x648 with 1 Axes>"
      ]
     },
     "metadata": {},
     "output_type": "display_data"
    }
   ],
   "source": [
    "# Piechart\n",
    "plt.figure(figsize = (20,9))\n",
    "\n",
    "sns.set(font_scale=2,style = \"darkgrid\")\n",
    "color = sns.color_palette(\"colorblind\")\n",
    "plt.pie(x = data, autopct = '%0.0f%%',shadow = 'True',explode=[0.05, 0.0],startangle=45, colors = color)\n",
    "plt.title(\"Most Liked Genre(2009-2022)\")\n",
    "\n",
    "plt.legend(data,labels= [\"Fiction\",\"Non Fiction\"] , loc=\"best\")\n",
    "plt.show()\n"
   ]
  },
  {
   "cell_type": "markdown",
   "id": "40a29c8e",
   "metadata": {
    "papermill": {
     "duration": 0.017798,
     "end_time": "2023-11-10T16:50:51.790373",
     "exception": false,
     "start_time": "2023-11-10T16:50:51.772575",
     "status": "completed"
    },
    "tags": []
   },
   "source": [
    "**b. Number of Fiction vs Non Fiction books in Amazon's top-50 list from 2009-2022**"
   ]
  },
  {
   "cell_type": "code",
   "execution_count": 13,
   "id": "710d946d",
   "metadata": {
    "execution": {
     "iopub.execute_input": "2023-11-10T16:50:51.827587Z",
     "iopub.status.busy": "2023-11-10T16:50:51.827190Z",
     "iopub.status.idle": "2023-11-10T16:50:51.846132Z",
     "shell.execute_reply": "2023-11-10T16:50:51.844878Z"
    },
    "papermill": {
     "duration": 0.040708,
     "end_time": "2023-11-10T16:50:51.848795",
     "exception": false,
     "start_time": "2023-11-10T16:50:51.808087",
     "status": "completed"
    },
    "tags": []
   },
   "outputs": [
    {
     "data": {
      "text/html": [
       "<div>\n",
       "<style scoped>\n",
       "    .dataframe tbody tr th:only-of-type {\n",
       "        vertical-align: middle;\n",
       "    }\n",
       "\n",
       "    .dataframe tbody tr th {\n",
       "        vertical-align: top;\n",
       "    }\n",
       "\n",
       "    .dataframe thead th {\n",
       "        text-align: right;\n",
       "    }\n",
       "</style>\n",
       "<table border=\"1\" class=\"dataframe\">\n",
       "  <thead>\n",
       "    <tr style=\"text-align: right;\">\n",
       "      <th></th>\n",
       "      <th>Genre</th>\n",
       "      <th>Year</th>\n",
       "      <th>Counts</th>\n",
       "    </tr>\n",
       "  </thead>\n",
       "  <tbody>\n",
       "    <tr>\n",
       "      <th>0</th>\n",
       "      <td>Fiction</td>\n",
       "      <td>2009</td>\n",
       "      <td>24</td>\n",
       "    </tr>\n",
       "    <tr>\n",
       "      <th>1</th>\n",
       "      <td>Fiction</td>\n",
       "      <td>2010</td>\n",
       "      <td>20</td>\n",
       "    </tr>\n",
       "    <tr>\n",
       "      <th>2</th>\n",
       "      <td>Fiction</td>\n",
       "      <td>2011</td>\n",
       "      <td>21</td>\n",
       "    </tr>\n",
       "    <tr>\n",
       "      <th>3</th>\n",
       "      <td>Fiction</td>\n",
       "      <td>2012</td>\n",
       "      <td>21</td>\n",
       "    </tr>\n",
       "    <tr>\n",
       "      <th>4</th>\n",
       "      <td>Fiction</td>\n",
       "      <td>2013</td>\n",
       "      <td>24</td>\n",
       "    </tr>\n",
       "    <tr>\n",
       "      <th>5</th>\n",
       "      <td>Fiction</td>\n",
       "      <td>2014</td>\n",
       "      <td>29</td>\n",
       "    </tr>\n",
       "    <tr>\n",
       "      <th>6</th>\n",
       "      <td>Fiction</td>\n",
       "      <td>2015</td>\n",
       "      <td>17</td>\n",
       "    </tr>\n",
       "    <tr>\n",
       "      <th>7</th>\n",
       "      <td>Fiction</td>\n",
       "      <td>2016</td>\n",
       "      <td>19</td>\n",
       "    </tr>\n",
       "    <tr>\n",
       "      <th>8</th>\n",
       "      <td>Fiction</td>\n",
       "      <td>2017</td>\n",
       "      <td>24</td>\n",
       "    </tr>\n",
       "    <tr>\n",
       "      <th>9</th>\n",
       "      <td>Fiction</td>\n",
       "      <td>2018</td>\n",
       "      <td>21</td>\n",
       "    </tr>\n",
       "    <tr>\n",
       "      <th>10</th>\n",
       "      <td>Fiction</td>\n",
       "      <td>2019</td>\n",
       "      <td>20</td>\n",
       "    </tr>\n",
       "    <tr>\n",
       "      <th>11</th>\n",
       "      <td>Fiction</td>\n",
       "      <td>2020</td>\n",
       "      <td>21</td>\n",
       "    </tr>\n",
       "    <tr>\n",
       "      <th>12</th>\n",
       "      <td>Fiction</td>\n",
       "      <td>2021</td>\n",
       "      <td>25</td>\n",
       "    </tr>\n",
       "    <tr>\n",
       "      <th>13</th>\n",
       "      <td>Fiction</td>\n",
       "      <td>2022</td>\n",
       "      <td>26</td>\n",
       "    </tr>\n",
       "    <tr>\n",
       "      <th>14</th>\n",
       "      <td>Non Fiction</td>\n",
       "      <td>2009</td>\n",
       "      <td>26</td>\n",
       "    </tr>\n",
       "    <tr>\n",
       "      <th>15</th>\n",
       "      <td>Non Fiction</td>\n",
       "      <td>2010</td>\n",
       "      <td>30</td>\n",
       "    </tr>\n",
       "    <tr>\n",
       "      <th>16</th>\n",
       "      <td>Non Fiction</td>\n",
       "      <td>2011</td>\n",
       "      <td>29</td>\n",
       "    </tr>\n",
       "    <tr>\n",
       "      <th>17</th>\n",
       "      <td>Non Fiction</td>\n",
       "      <td>2012</td>\n",
       "      <td>29</td>\n",
       "    </tr>\n",
       "    <tr>\n",
       "      <th>18</th>\n",
       "      <td>Non Fiction</td>\n",
       "      <td>2013</td>\n",
       "      <td>26</td>\n",
       "    </tr>\n",
       "    <tr>\n",
       "      <th>19</th>\n",
       "      <td>Non Fiction</td>\n",
       "      <td>2014</td>\n",
       "      <td>21</td>\n",
       "    </tr>\n",
       "    <tr>\n",
       "      <th>20</th>\n",
       "      <td>Non Fiction</td>\n",
       "      <td>2015</td>\n",
       "      <td>33</td>\n",
       "    </tr>\n",
       "    <tr>\n",
       "      <th>21</th>\n",
       "      <td>Non Fiction</td>\n",
       "      <td>2016</td>\n",
       "      <td>31</td>\n",
       "    </tr>\n",
       "    <tr>\n",
       "      <th>22</th>\n",
       "      <td>Non Fiction</td>\n",
       "      <td>2017</td>\n",
       "      <td>26</td>\n",
       "    </tr>\n",
       "    <tr>\n",
       "      <th>23</th>\n",
       "      <td>Non Fiction</td>\n",
       "      <td>2018</td>\n",
       "      <td>29</td>\n",
       "    </tr>\n",
       "    <tr>\n",
       "      <th>24</th>\n",
       "      <td>Non Fiction</td>\n",
       "      <td>2019</td>\n",
       "      <td>30</td>\n",
       "    </tr>\n",
       "    <tr>\n",
       "      <th>25</th>\n",
       "      <td>Non Fiction</td>\n",
       "      <td>2020</td>\n",
       "      <td>29</td>\n",
       "    </tr>\n",
       "    <tr>\n",
       "      <th>26</th>\n",
       "      <td>Non Fiction</td>\n",
       "      <td>2021</td>\n",
       "      <td>25</td>\n",
       "    </tr>\n",
       "    <tr>\n",
       "      <th>27</th>\n",
       "      <td>Non Fiction</td>\n",
       "      <td>2022</td>\n",
       "      <td>24</td>\n",
       "    </tr>\n",
       "  </tbody>\n",
       "</table>\n",
       "</div>"
      ],
      "text/plain": [
       "          Genre  Year  Counts\n",
       "0       Fiction  2009      24\n",
       "1       Fiction  2010      20\n",
       "2       Fiction  2011      21\n",
       "3       Fiction  2012      21\n",
       "4       Fiction  2013      24\n",
       "5       Fiction  2014      29\n",
       "6       Fiction  2015      17\n",
       "7       Fiction  2016      19\n",
       "8       Fiction  2017      24\n",
       "9       Fiction  2018      21\n",
       "10      Fiction  2019      20\n",
       "11      Fiction  2020      21\n",
       "12      Fiction  2021      25\n",
       "13      Fiction  2022      26\n",
       "14  Non Fiction  2009      26\n",
       "15  Non Fiction  2010      30\n",
       "16  Non Fiction  2011      29\n",
       "17  Non Fiction  2012      29\n",
       "18  Non Fiction  2013      26\n",
       "19  Non Fiction  2014      21\n",
       "20  Non Fiction  2015      33\n",
       "21  Non Fiction  2016      31\n",
       "22  Non Fiction  2017      26\n",
       "23  Non Fiction  2018      29\n",
       "24  Non Fiction  2019      30\n",
       "25  Non Fiction  2020      29\n",
       "26  Non Fiction  2021      25\n",
       "27  Non Fiction  2022      24"
      ]
     },
     "execution_count": 13,
     "metadata": {},
     "output_type": "execute_result"
    }
   ],
   "source": [
    "size = df.groupby(['Genre', 'Year']).size().reset_index(name='Counts')\n",
    "size"
   ]
  },
  {
   "cell_type": "code",
   "execution_count": 14,
   "id": "89238d43",
   "metadata": {
    "execution": {
     "iopub.execute_input": "2023-11-10T16:50:51.888445Z",
     "iopub.status.busy": "2023-11-10T16:50:51.887772Z",
     "iopub.status.idle": "2023-11-10T16:50:52.421936Z",
     "shell.execute_reply": "2023-11-10T16:50:52.420771Z"
    },
    "papermill": {
     "duration": 0.557233,
     "end_time": "2023-11-10T16:50:52.425086",
     "exception": false,
     "start_time": "2023-11-10T16:50:51.867853",
     "status": "completed"
    },
    "tags": []
   },
   "outputs": [
    {
     "data": {
      "image/png": "[encoded data removed]",
      "text/plain": [
       "<Figure size 1440x648 with 1 Axes>"
      ]
     },
     "metadata": {},
     "output_type": "display_data"
    }
   ],
   "source": [
    "#Barplot\n",
    "plt.figure(figsize = (20,9))\n",
    "sns.barplot(x='Year', y='Counts', hue='Genre', data=size,palette = \"magma\").set(title='Number of Fiction vs Non Fiction books in Amazons top-50 list from 2009-2022')\n",
    "plt.legend(title = \"Genre\",fontsize='14', title_fontsize='14')\n",
    "plt.show()"
   ]
  },
  {
   "cell_type": "markdown",
   "id": "4a05fc0d",
   "metadata": {
    "papermill": {
     "duration": 0.019243,
     "end_time": "2023-11-10T16:50:52.463807",
     "exception": false,
     "start_time": "2023-11-10T16:50:52.444564",
     "status": "completed"
    },
    "tags": []
   },
   "source": [
    "**c. Total counts of books published per author**"
   ]
  },
  {
   "cell_type": "code",
   "execution_count": 15,
   "id": "09fefaa9",
   "metadata": {
    "execution": {
     "iopub.execute_input": "2023-11-10T16:50:52.503568Z",
     "iopub.status.busy": "2023-11-10T16:50:52.503159Z",
     "iopub.status.idle": "2023-11-10T16:50:52.518518Z",
     "shell.execute_reply": "2023-11-10T16:50:52.517660Z"
    },
    "papermill": {
     "duration": 0.038092,
     "end_time": "2023-11-10T16:50:52.520873",
     "exception": false,
     "start_time": "2023-11-10T16:50:52.482781",
     "status": "completed"
    },
    "tags": []
   },
   "outputs": [
    {
     "data": {
      "text/html": [
       "<div>\n",
       "<style scoped>\n",
       "    .dataframe tbody tr th:only-of-type {\n",
       "        vertical-align: middle;\n",
       "    }\n",
       "\n",
       "    .dataframe tbody tr th {\n",
       "        vertical-align: top;\n",
       "    }\n",
       "\n",
       "    .dataframe thead th {\n",
       "        text-align: right;\n",
       "    }\n",
       "</style>\n",
       "<table border=\"1\" class=\"dataframe\">\n",
       "  <thead>\n",
       "    <tr style=\"text-align: right;\">\n",
       "      <th></th>\n",
       "      <th>Author</th>\n",
       "      <th>Counts</th>\n",
       "    </tr>\n",
       "  </thead>\n",
       "  <tbody>\n",
       "    <tr>\n",
       "      <th>0</th>\n",
       "      <td>Gary Chapman</td>\n",
       "      <td>14</td>\n",
       "    </tr>\n",
       "    <tr>\n",
       "      <th>1</th>\n",
       "      <td>Jeff Kinney</td>\n",
       "      <td>14</td>\n",
       "    </tr>\n",
       "    <tr>\n",
       "      <th>2</th>\n",
       "      <td>Suzanne Collins</td>\n",
       "      <td>12</td>\n",
       "    </tr>\n",
       "    <tr>\n",
       "      <th>3</th>\n",
       "      <td>American Psychological Association</td>\n",
       "      <td>11</td>\n",
       "    </tr>\n",
       "    <tr>\n",
       "      <th>4</th>\n",
       "      <td>Rick Riordan</td>\n",
       "      <td>11</td>\n",
       "    </tr>\n",
       "    <tr>\n",
       "      <th>5</th>\n",
       "      <td>Eric Carle</td>\n",
       "      <td>10</td>\n",
       "    </tr>\n",
       "    <tr>\n",
       "      <th>6</th>\n",
       "      <td>Dr. Seuss</td>\n",
       "      <td>10</td>\n",
       "    </tr>\n",
       "    <tr>\n",
       "      <th>7</th>\n",
       "      <td>Dav Pilkey</td>\n",
       "      <td>9</td>\n",
       "    </tr>\n",
       "    <tr>\n",
       "      <th>8</th>\n",
       "      <td>Gallup</td>\n",
       "      <td>9</td>\n",
       "    </tr>\n",
       "    <tr>\n",
       "      <th>9</th>\n",
       "      <td>Don Miguel Ruiz</td>\n",
       "      <td>9</td>\n",
       "    </tr>\n",
       "    <tr>\n",
       "      <th>10</th>\n",
       "      <td>Rob Elliott</td>\n",
       "      <td>8</td>\n",
       "    </tr>\n",
       "    <tr>\n",
       "      <th>11</th>\n",
       "      <td>Stephenie Meyer</td>\n",
       "      <td>8</td>\n",
       "    </tr>\n",
       "    <tr>\n",
       "      <th>12</th>\n",
       "      <td>Bill O'Reilly</td>\n",
       "      <td>7</td>\n",
       "    </tr>\n",
       "    <tr>\n",
       "      <th>13</th>\n",
       "      <td>Dale Carnegie</td>\n",
       "      <td>7</td>\n",
       "    </tr>\n",
       "    <tr>\n",
       "      <th>14</th>\n",
       "      <td>Stephen R. Covey</td>\n",
       "      <td>7</td>\n",
       "    </tr>\n",
       "  </tbody>\n",
       "</table>\n",
       "</div>"
      ],
      "text/plain": [
       "                                Author  Counts\n",
       "0                         Gary Chapman      14\n",
       "1                          Jeff Kinney      14\n",
       "2                      Suzanne Collins      12\n",
       "3   American Psychological Association      11\n",
       "4                         Rick Riordan      11\n",
       "5                           Eric Carle      10\n",
       "6                            Dr. Seuss      10\n",
       "7                           Dav Pilkey       9\n",
       "8                               Gallup       9\n",
       "9                      Don Miguel Ruiz       9\n",
       "10                         Rob Elliott       8\n",
       "11                     Stephenie Meyer       8\n",
       "12                       Bill O'Reilly       7\n",
       "13                       Dale Carnegie       7\n",
       "14                    Stephen R. Covey       7"
      ]
     },
     "execution_count": 15,
     "metadata": {},
     "output_type": "execute_result"
    }
   ],
   "source": [
    "author = df.groupby(\"Author\").size().reset_index(name = \"Counts\").sort_values(\"Counts\",ascending = False,ignore_index= True)\n",
    "a = author.head(15)\n",
    "a"
   ]
  },
  {
   "cell_type": "code",
   "execution_count": 16,
   "id": "e49c2325",
   "metadata": {
    "execution": {
     "iopub.execute_input": "2023-11-10T16:50:52.563169Z",
     "iopub.status.busy": "2023-11-10T16:50:52.562460Z",
     "iopub.status.idle": "2023-11-10T16:50:53.032500Z",
     "shell.execute_reply": "2023-11-10T16:50:53.031186Z"
    },
    "papermill": {
     "duration": 0.49513,
     "end_time": "2023-11-10T16:50:53.036299",
     "exception": false,
     "start_time": "2023-11-10T16:50:52.541169",
     "status": "completed"
    },
    "tags": []
   },
   "outputs": [
    {
     "data": {
      "image/png": "[encoded data removed]",
      "text/plain": [
       "<Figure size 1440x648 with 1 Axes>"
      ]
     },
     "metadata": {},
     "output_type": "display_data"
    }
   ],
   "source": [
    "# Barplot\n",
    "plt.figure(figsize =(20,9))\n",
    "sns.set(font_scale = 2)\n",
    "sns.barplot(x = a.Counts, y = a.Author,data = a)\n",
    "plt.title(\"Top 15 Authors as per Counts of Books Published (2009-2022)\")\n",
    "plt.xlabel(\"Counts\")\n",
    "plt.ylabel(\"Author\")\n",
    "\n",
    "plt.show()"
   ]
  },
  {
   "cell_type": "markdown",
   "id": "f314e1a0",
   "metadata": {
    "papermill": {
     "duration": 0.020573,
     "end_time": "2023-11-10T16:50:53.078213",
     "exception": false,
     "start_time": "2023-11-10T16:50:53.057640",
     "status": "completed"
    },
    "tags": []
   },
   "source": [
    "**d. Top 15 Most Published Books(2009-2022)**"
   ]
  },
  {
   "cell_type": "code",
   "execution_count": 17,
   "id": "d11ebf38",
   "metadata": {
    "execution": {
     "iopub.execute_input": "2023-11-10T16:50:53.123141Z",
     "iopub.status.busy": "2023-11-10T16:50:53.121563Z",
     "iopub.status.idle": "2023-11-10T16:50:53.140573Z",
     "shell.execute_reply": "2023-11-10T16:50:53.139101Z"
    },
    "papermill": {
     "duration": 0.044275,
     "end_time": "2023-11-10T16:50:53.143334",
     "exception": false,
     "start_time": "2023-11-10T16:50:53.099059",
     "status": "completed"
    },
    "tags": []
   },
   "outputs": [
    {
     "data": {
      "text/html": [
       "<div>\n",
       "<style scoped>\n",
       "    .dataframe tbody tr th:only-of-type {\n",
       "        vertical-align: middle;\n",
       "    }\n",
       "\n",
       "    .dataframe tbody tr th {\n",
       "        vertical-align: top;\n",
       "    }\n",
       "\n",
       "    .dataframe thead th {\n",
       "        text-align: right;\n",
       "    }\n",
       "</style>\n",
       "<table border=\"1\" class=\"dataframe\">\n",
       "  <thead>\n",
       "    <tr style=\"text-align: right;\">\n",
       "      <th></th>\n",
       "      <th>Name</th>\n",
       "      <th>Counts</th>\n",
       "    </tr>\n",
       "  </thead>\n",
       "  <tbody>\n",
       "    <tr>\n",
       "      <th>0</th>\n",
       "      <td>Publication Manual of the American Psychologic...</td>\n",
       "      <td>10</td>\n",
       "    </tr>\n",
       "    <tr>\n",
       "      <th>1</th>\n",
       "      <td>The Very Hungry Caterpillar</td>\n",
       "      <td>10</td>\n",
       "    </tr>\n",
       "    <tr>\n",
       "      <th>2</th>\n",
       "      <td>StrengthsFinder 2.0</td>\n",
       "      <td>9</td>\n",
       "    </tr>\n",
       "    <tr>\n",
       "      <th>3</th>\n",
       "      <td>The Four Agreements: A Practical Guide to Pers...</td>\n",
       "      <td>9</td>\n",
       "    </tr>\n",
       "    <tr>\n",
       "      <th>4</th>\n",
       "      <td>Oh, the Places You'll Go!</td>\n",
       "      <td>8</td>\n",
       "    </tr>\n",
       "    <tr>\n",
       "      <th>5</th>\n",
       "      <td>The 5 Love Languages: The Secret to Love that ...</td>\n",
       "      <td>8</td>\n",
       "    </tr>\n",
       "    <tr>\n",
       "      <th>6</th>\n",
       "      <td>How to Win Friends &amp; Influence People</td>\n",
       "      <td>7</td>\n",
       "    </tr>\n",
       "    <tr>\n",
       "      <th>7</th>\n",
       "      <td>The 7 Habits of Highly Effective People: Power...</td>\n",
       "      <td>7</td>\n",
       "    </tr>\n",
       "    <tr>\n",
       "      <th>8</th>\n",
       "      <td>Jesus Calling: Enjoying Peace in His Presence ...</td>\n",
       "      <td>6</td>\n",
       "    </tr>\n",
       "    <tr>\n",
       "      <th>9</th>\n",
       "      <td>The Wonderful Things You Will Be</td>\n",
       "      <td>6</td>\n",
       "    </tr>\n",
       "    <tr>\n",
       "      <th>10</th>\n",
       "      <td>Giraffes Can't Dance</td>\n",
       "      <td>6</td>\n",
       "    </tr>\n",
       "    <tr>\n",
       "      <th>11</th>\n",
       "      <td>To Kill a Mockingbird</td>\n",
       "      <td>5</td>\n",
       "    </tr>\n",
       "    <tr>\n",
       "      <th>12</th>\n",
       "      <td>Brown Bear, Brown Bear, What Do You See?</td>\n",
       "      <td>5</td>\n",
       "    </tr>\n",
       "    <tr>\n",
       "      <th>13</th>\n",
       "      <td>The 5 Love Languages: The Secret to Love That ...</td>\n",
       "      <td>5</td>\n",
       "    </tr>\n",
       "    <tr>\n",
       "      <th>14</th>\n",
       "      <td>The Subtle Art of Not Giving a F*ck: A Counter...</td>\n",
       "      <td>5</td>\n",
       "    </tr>\n",
       "  </tbody>\n",
       "</table>\n",
       "</div>"
      ],
      "text/plain": [
       "                                                 Name  Counts\n",
       "0   Publication Manual of the American Psychologic...      10\n",
       "1                         The Very Hungry Caterpillar      10\n",
       "2                                 StrengthsFinder 2.0       9\n",
       "3   The Four Agreements: A Practical Guide to Pers...       9\n",
       "4                           Oh, the Places You'll Go!       8\n",
       "5   The 5 Love Languages: The Secret to Love that ...       8\n",
       "6               How to Win Friends & Influence People       7\n",
       "7   The 7 Habits of Highly Effective People: Power...       7\n",
       "8   Jesus Calling: Enjoying Peace in His Presence ...       6\n",
       "9                    The Wonderful Things You Will Be       6\n",
       "10                               Giraffes Can't Dance       6\n",
       "11                              To Kill a Mockingbird       5\n",
       "12           Brown Bear, Brown Bear, What Do You See?       5\n",
       "13  The 5 Love Languages: The Secret to Love That ...       5\n",
       "14  The Subtle Art of Not Giving a F*ck: A Counter...       5"
      ]
     },
     "execution_count": 17,
     "metadata": {},
     "output_type": "execute_result"
    }
   ],
   "source": [
    "book = df.groupby(\"Name\").size().reset_index(name=\"Counts\").sort_values(\"Counts\",ascending = False,ignore_index = True)\n",
    "b= book.head(15)\n",
    "b"
   ]
  },
  {
   "cell_type": "code",
   "execution_count": 18,
   "id": "0c2b58be",
   "metadata": {
    "execution": {
     "iopub.execute_input": "2023-11-10T16:50:53.192233Z",
     "iopub.status.busy": "2023-11-10T16:50:53.191130Z",
     "iopub.status.idle": "2023-11-10T16:50:53.729174Z",
     "shell.execute_reply": "2023-11-10T16:50:53.727933Z"
    },
    "papermill": {
     "duration": 0.567684,
     "end_time": "2023-11-10T16:50:53.734789",
     "exception": false,
     "start_time": "2023-11-10T16:50:53.167105",
     "status": "completed"
    },
    "tags": []
   },
   "outputs": [
    {
     "data": {
      "image/png": "[encoded data removed]",
      "text/plain": [
       "<Figure size 1440x648 with 1 Axes>"
      ]
     },
     "metadata": {},
     "output_type": "display_data"
    }
   ],
   "source": [
    "# Barplot\n",
    "plt.figure(figsize =(20,9))\n",
    "sns.set(font_scale = 2)\n",
    "sns.barplot(x = b[\"Counts\"], y = b[\"Name\"], data = b)\n",
    "plt.title(\"Top 15 Most Published Books(2009 -2022)\")\n",
    "plt.xlabel(\"Counts\")\n",
    "plt.ylabel(\"Title\")\n",
    "\n",
    "plt.show()"
   ]
  },
  {
   "cell_type": "markdown",
   "id": "64d85e4d",
   "metadata": {
    "papermill": {
     "duration": 0.023982,
     "end_time": "2023-11-10T16:50:53.783857",
     "exception": false,
     "start_time": "2023-11-10T16:50:53.759875",
     "status": "completed"
    },
    "tags": []
   },
   "source": [
    "**e. Top 10 Highly Reviewed Books(2009-2022)**"
   ]
  },
  {
   "cell_type": "code",
   "execution_count": 19,
   "id": "17275f6b",
   "metadata": {
    "execution": {
     "iopub.execute_input": "2023-11-10T16:50:53.834903Z",
     "iopub.status.busy": "2023-11-10T16:50:53.834483Z",
     "iopub.status.idle": "2023-11-10T16:50:53.849888Z",
     "shell.execute_reply": "2023-11-10T16:50:53.848498Z"
    },
    "papermill": {
     "duration": 0.044484,
     "end_time": "2023-11-10T16:50:53.852783",
     "exception": false,
     "start_time": "2023-11-10T16:50:53.808299",
     "status": "completed"
    },
    "tags": []
   },
   "outputs": [
    {
     "data": {
      "text/html": [
       "<div>\n",
       "<style scoped>\n",
       "    .dataframe tbody tr th:only-of-type {\n",
       "        vertical-align: middle;\n",
       "    }\n",
       "\n",
       "    .dataframe tbody tr th {\n",
       "        vertical-align: top;\n",
       "    }\n",
       "\n",
       "    .dataframe thead th {\n",
       "        text-align: right;\n",
       "    }\n",
       "</style>\n",
       "<table border=\"1\" class=\"dataframe\">\n",
       "  <thead>\n",
       "    <tr style=\"text-align: right;\">\n",
       "      <th></th>\n",
       "      <th>Reviews</th>\n",
       "    </tr>\n",
       "    <tr>\n",
       "      <th>Name</th>\n",
       "      <th></th>\n",
       "    </tr>\n",
       "  </thead>\n",
       "  <tbody>\n",
       "    <tr>\n",
       "      <th>Where the Crawdads Sing</th>\n",
       "      <td>505673</td>\n",
       "    </tr>\n",
       "    <tr>\n",
       "      <th>The Four Agreements: A Practical Guide to Personal Freedom (A Toltec Wisdom Book)</th>\n",
       "      <td>367242</td>\n",
       "    </tr>\n",
       "    <tr>\n",
       "      <th>The 5 Love Languages: The Secret to Love that Lasts</th>\n",
       "      <td>315158</td>\n",
       "    </tr>\n",
       "    <tr>\n",
       "      <th>The Midnight Library: A Novel</th>\n",
       "      <td>288627</td>\n",
       "    </tr>\n",
       "    <tr>\n",
       "      <th>The Boy, the Mole, the Fox and the Horse</th>\n",
       "      <td>281247</td>\n",
       "    </tr>\n",
       "    <tr>\n",
       "      <th>The Very Hungry Caterpillar</th>\n",
       "      <td>278602</td>\n",
       "    </tr>\n",
       "    <tr>\n",
       "      <th>How to Win Friends &amp; Influence People</th>\n",
       "      <td>247571</td>\n",
       "    </tr>\n",
       "    <tr>\n",
       "      <th>Becoming</th>\n",
       "      <td>241033</td>\n",
       "    </tr>\n",
       "    <tr>\n",
       "      <th>If Animals Kissed Good Night</th>\n",
       "      <td>224261</td>\n",
       "    </tr>\n",
       "    <tr>\n",
       "      <th>Atomic Habits: An Easy &amp; Proven Way to Build Good Habits &amp; Break Bad Ones</th>\n",
       "      <td>219647</td>\n",
       "    </tr>\n",
       "  </tbody>\n",
       "</table>\n",
       "</div>"
      ],
      "text/plain": [
       "                                                    Reviews\n",
       "Name                                                       \n",
       "Where the Crawdads Sing                              505673\n",
       "The Four Agreements: A Practical Guide to Perso...   367242\n",
       "The 5 Love Languages: The Secret to Love that L...   315158\n",
       "The Midnight Library: A Novel                        288627\n",
       "The Boy, the Mole, the Fox and the Horse             281247\n",
       "The Very Hungry Caterpillar                          278602\n",
       "How to Win Friends & Influence People                247571\n",
       "Becoming                                             241033\n",
       "If Animals Kissed Good Night                         224261\n",
       "Atomic Habits: An Easy & Proven Way to Build Go...   219647"
      ]
     },
     "execution_count": 19,
     "metadata": {},
     "output_type": "execute_result"
    }
   ],
   "source": [
    "rating = df.groupby(\"Name\")[\"Reviews\"].sum().sort_values(ascending= False).head(10)\n",
    "total_rating = pd.DataFrame(rating)\n",
    "total_rating"
   ]
  },
  {
   "cell_type": "code",
   "execution_count": 20,
   "id": "84c8b1d6",
   "metadata": {
    "execution": {
     "iopub.execute_input": "2023-11-10T16:50:53.906080Z",
     "iopub.status.busy": "2023-11-10T16:50:53.905638Z",
     "iopub.status.idle": "2023-11-10T16:50:54.425815Z",
     "shell.execute_reply": "2023-11-10T16:50:54.424543Z"
    },
    "papermill": {
     "duration": 0.551375,
     "end_time": "2023-11-10T16:50:54.429854",
     "exception": false,
     "start_time": "2023-11-10T16:50:53.878479",
     "status": "completed"
    },
    "tags": []
   },
   "outputs": [
    {
     "data": {
      "image/png": "[encoded data removed]",
      "text/plain": [
       "<Figure size 1800x1080 with 1 Axes>"
      ]
     },
     "metadata": {},
     "output_type": "display_data"
    }
   ],
   "source": [
    "# Barplot\n",
    "plt.figure(figsize =(25,15))\n",
    "sns.set(font_scale = 2)\n",
    "\n",
    "sns.barplot(x = total_rating.Reviews, y = total_rating.index,palette =\"husl\")\n",
    "plt.title(\"Top 10 Most Reviewed Books\")\n",
    "plt.xlabel(\"Count\")\n",
    "plt.ylabel(\"Title\")\n",
    "\n",
    "plt.show()"
   ]
  },
  {
   "cell_type": "markdown",
   "id": "b915fec8",
   "metadata": {
    "papermill": {
     "duration": 0.026557,
     "end_time": "2023-11-10T16:50:54.483654",
     "exception": false,
     "start_time": "2023-11-10T16:50:54.457097",
     "status": "completed"
    },
    "tags": []
   },
   "source": [
    "# 4. Asking and Answering Questions"
   ]
  },
  {
   "cell_type": "markdown",
   "id": "4ced7a6e",
   "metadata": {
    "papermill": {
     "duration": 0.026483,
     "end_time": "2023-11-10T16:50:54.537043",
     "exception": false,
     "start_time": "2023-11-10T16:50:54.510560",
     "status": "completed"
    },
    "tags": []
   },
   "source": [
    "**a. What are the top five highly rated and reviewed books ?**"
   ]
  },
  {
   "cell_type": "code",
   "execution_count": 21,
   "id": "6c389e37",
   "metadata": {
    "execution": {
     "iopub.execute_input": "2023-11-10T16:50:54.594110Z",
     "iopub.status.busy": "2023-11-10T16:50:54.593671Z",
     "iopub.status.idle": "2023-11-10T16:50:54.614356Z",
     "shell.execute_reply": "2023-11-10T16:50:54.613078Z"
    },
    "papermill": {
     "duration": 0.051785,
     "end_time": "2023-11-10T16:50:54.617093",
     "exception": false,
     "start_time": "2023-11-10T16:50:54.565308",
     "status": "completed"
    },
    "tags": []
   },
   "outputs": [
    {
     "data": {
      "text/html": [
       "<div>\n",
       "<style scoped>\n",
       "    .dataframe tbody tr th:only-of-type {\n",
       "        vertical-align: middle;\n",
       "    }\n",
       "\n",
       "    .dataframe tbody tr th {\n",
       "        vertical-align: top;\n",
       "    }\n",
       "\n",
       "    .dataframe thead th {\n",
       "        text-align: right;\n",
       "    }\n",
       "</style>\n",
       "<table border=\"1\" class=\"dataframe\">\n",
       "  <thead>\n",
       "    <tr style=\"text-align: right;\">\n",
       "      <th></th>\n",
       "      <th>Name</th>\n",
       "      <th>Author</th>\n",
       "      <th>User Rating</th>\n",
       "      <th>Reviews</th>\n",
       "      <th>Price($)</th>\n",
       "      <th>Year</th>\n",
       "      <th>Genre</th>\n",
       "    </tr>\n",
       "  </thead>\n",
       "  <tbody>\n",
       "    <tr>\n",
       "      <th>0</th>\n",
       "      <td>A Promised Land</td>\n",
       "      <td>Barack Obama</td>\n",
       "      <td>4.9</td>\n",
       "      <td>121109</td>\n",
       "      <td>16</td>\n",
       "      <td>2020</td>\n",
       "      <td>Non Fiction</td>\n",
       "    </tr>\n",
       "    <tr>\n",
       "      <th>1</th>\n",
       "      <td>I Love You to the Moon and Back</td>\n",
       "      <td>Amelia Hepworth</td>\n",
       "      <td>4.9</td>\n",
       "      <td>51188</td>\n",
       "      <td>4</td>\n",
       "      <td>2020</td>\n",
       "      <td>Fiction</td>\n",
       "    </tr>\n",
       "    <tr>\n",
       "      <th>2</th>\n",
       "      <td>I Love You to the Moon and Back</td>\n",
       "      <td>Amelia Hepworth</td>\n",
       "      <td>4.9</td>\n",
       "      <td>51188</td>\n",
       "      <td>4</td>\n",
       "      <td>2021</td>\n",
       "      <td>Fiction</td>\n",
       "    </tr>\n",
       "    <tr>\n",
       "      <th>3</th>\n",
       "      <td>I Love You to the Moon and Back</td>\n",
       "      <td>Amelia Hepworth</td>\n",
       "      <td>4.9</td>\n",
       "      <td>51188</td>\n",
       "      <td>4</td>\n",
       "      <td>2022</td>\n",
       "      <td>Fiction</td>\n",
       "    </tr>\n",
       "    <tr>\n",
       "      <th>4</th>\n",
       "      <td>The Very Hungry Caterpillar</td>\n",
       "      <td>Eric Carle</td>\n",
       "      <td>4.9</td>\n",
       "      <td>47260</td>\n",
       "      <td>5</td>\n",
       "      <td>2020</td>\n",
       "      <td>Fiction</td>\n",
       "    </tr>\n",
       "  </tbody>\n",
       "</table>\n",
       "</div>"
      ],
      "text/plain": [
       "                              Name           Author  User Rating  Reviews  \\\n",
       "0                  A Promised Land     Barack Obama          4.9   121109   \n",
       "1  I Love You to the Moon and Back  Amelia Hepworth          4.9    51188   \n",
       "2  I Love You to the Moon and Back  Amelia Hepworth          4.9    51188   \n",
       "3  I Love You to the Moon and Back  Amelia Hepworth          4.9    51188   \n",
       "4      The Very Hungry Caterpillar       Eric Carle          4.9    47260   \n",
       "\n",
       "   Price($)  Year        Genre  \n",
       "0        16  2020  Non Fiction  \n",
       "1         4  2020      Fiction  \n",
       "2         4  2021      Fiction  \n",
       "3         4  2022      Fiction  \n",
       "4         5  2020      Fiction  "
      ]
     },
     "execution_count": 21,
     "metadata": {},
     "output_type": "execute_result"
    }
   ],
   "source": [
    "df.sort_values([\"User Rating\",\"Reviews\"], ascending = False,ignore_index = True).head()"
   ]
  },
  {
   "cell_type": "markdown",
   "id": "34acce46",
   "metadata": {
    "papermill": {
     "duration": 0.026826,
     "end_time": "2023-11-10T16:50:54.671052",
     "exception": false,
     "start_time": "2023-11-10T16:50:54.644226",
     "status": "completed"
    },
    "tags": []
   },
   "source": [
    "**b. What are the five least rated and reviewed books ?**"
   ]
  },
  {
   "cell_type": "code",
   "execution_count": 22,
   "id": "52fe5b91",
   "metadata": {
    "execution": {
     "iopub.execute_input": "2023-11-10T16:50:54.727517Z",
     "iopub.status.busy": "2023-11-10T16:50:54.726717Z",
     "iopub.status.idle": "2023-11-10T16:50:54.747028Z",
     "shell.execute_reply": "2023-11-10T16:50:54.745473Z"
    },
    "papermill": {
     "duration": 0.051871,
     "end_time": "2023-11-10T16:50:54.750025",
     "exception": false,
     "start_time": "2023-11-10T16:50:54.698154",
     "status": "completed"
    },
    "tags": []
   },
   "outputs": [
    {
     "data": {
      "text/html": [
       "<div>\n",
       "<style scoped>\n",
       "    .dataframe tbody tr th:only-of-type {\n",
       "        vertical-align: middle;\n",
       "    }\n",
       "\n",
       "    .dataframe tbody tr th {\n",
       "        vertical-align: top;\n",
       "    }\n",
       "\n",
       "    .dataframe thead th {\n",
       "        text-align: right;\n",
       "    }\n",
       "</style>\n",
       "<table border=\"1\" class=\"dataframe\">\n",
       "  <thead>\n",
       "    <tr style=\"text-align: right;\">\n",
       "      <th></th>\n",
       "      <th>Name</th>\n",
       "      <th>Author</th>\n",
       "      <th>User Rating</th>\n",
       "      <th>Reviews</th>\n",
       "      <th>Price($)</th>\n",
       "      <th>Year</th>\n",
       "      <th>Genre</th>\n",
       "    </tr>\n",
       "  </thead>\n",
       "  <tbody>\n",
       "    <tr>\n",
       "      <th>695</th>\n",
       "      <td>Allegiant</td>\n",
       "      <td>Veronica Roth</td>\n",
       "      <td>3.9</td>\n",
       "      <td>6310</td>\n",
       "      <td>13</td>\n",
       "      <td>2013</td>\n",
       "      <td>Fiction</td>\n",
       "    </tr>\n",
       "    <tr>\n",
       "      <th>696</th>\n",
       "      <td>Fifty Shades of Grey: Book One of the Fifty Sh...</td>\n",
       "      <td>E L James</td>\n",
       "      <td>3.8</td>\n",
       "      <td>47265</td>\n",
       "      <td>14</td>\n",
       "      <td>2012</td>\n",
       "      <td>Fiction</td>\n",
       "    </tr>\n",
       "    <tr>\n",
       "      <th>697</th>\n",
       "      <td>Fifty Shades of Grey: Book One of the Fifty Sh...</td>\n",
       "      <td>E L James</td>\n",
       "      <td>3.8</td>\n",
       "      <td>47265</td>\n",
       "      <td>14</td>\n",
       "      <td>2013</td>\n",
       "      <td>Fiction</td>\n",
       "    </tr>\n",
       "    <tr>\n",
       "      <th>698</th>\n",
       "      <td>Go Set a Watchman: A Novel</td>\n",
       "      <td>Harper Lee</td>\n",
       "      <td>3.6</td>\n",
       "      <td>14982</td>\n",
       "      <td>19</td>\n",
       "      <td>2015</td>\n",
       "      <td>Fiction</td>\n",
       "    </tr>\n",
       "    <tr>\n",
       "      <th>699</th>\n",
       "      <td>The Casual Vacancy</td>\n",
       "      <td>J.K. Rowling</td>\n",
       "      <td>3.3</td>\n",
       "      <td>9372</td>\n",
       "      <td>12</td>\n",
       "      <td>2012</td>\n",
       "      <td>Fiction</td>\n",
       "    </tr>\n",
       "  </tbody>\n",
       "</table>\n",
       "</div>"
      ],
      "text/plain": [
       "                                                  Name         Author  \\\n",
       "695                                          Allegiant  Veronica Roth   \n",
       "696  Fifty Shades of Grey: Book One of the Fifty Sh...      E L James   \n",
       "697  Fifty Shades of Grey: Book One of the Fifty Sh...      E L James   \n",
       "698                         Go Set a Watchman: A Novel     Harper Lee   \n",
       "699                                 The Casual Vacancy   J.K. Rowling   \n",
       "\n",
       "     User Rating  Reviews  Price($)  Year    Genre  \n",
       "695          3.9     6310        13  2013  Fiction  \n",
       "696          3.8    47265        14  2012  Fiction  \n",
       "697          3.8    47265        14  2013  Fiction  \n",
       "698          3.6    14982        19  2015  Fiction  \n",
       "699          3.3     9372        12  2012  Fiction  "
      ]
     },
     "execution_count": 22,
     "metadata": {},
     "output_type": "execute_result"
    }
   ],
   "source": [
    "df.sort_values([\"User Rating\",\"Reviews\"], ascending = False,ignore_index = True).tail()"
   ]
  },
  {
   "cell_type": "markdown",
   "id": "1b411b77",
   "metadata": {
    "execution": {
     "iopub.execute_input": "2023-02-11T10:09:55.470991Z",
     "iopub.status.busy": "2023-02-11T10:09:55.470568Z",
     "iopub.status.idle": "2023-02-11T10:09:55.484207Z",
     "shell.execute_reply": "2023-02-11T10:09:55.483015Z",
     "shell.execute_reply.started": "2023-02-11T10:09:55.470957Z"
    },
    "papermill": {
     "duration": 0.027547,
     "end_time": "2023-11-10T16:50:54.805158",
     "exception": false,
     "start_time": "2023-11-10T16:50:54.777611",
     "status": "completed"
    },
    "tags": []
   },
   "source": [
    "**c. What are the top 5 fictional book?**"
   ]
  },
  {
   "cell_type": "code",
   "execution_count": 23,
   "id": "7156367c",
   "metadata": {
    "execution": {
     "iopub.execute_input": "2023-11-10T16:50:54.862606Z",
     "iopub.status.busy": "2023-11-10T16:50:54.862183Z",
     "iopub.status.idle": "2023-11-10T16:50:54.885532Z",
     "shell.execute_reply": "2023-11-10T16:50:54.884561Z"
    },
    "papermill": {
     "duration": 0.05498,
     "end_time": "2023-11-10T16:50:54.887879",
     "exception": false,
     "start_time": "2023-11-10T16:50:54.832899",
     "status": "completed"
    },
    "tags": []
   },
   "outputs": [
    {
     "data": {
      "text/plain": [
       "[('Fiction',\n",
       "                                                    Name                 Author  \\\n",
       "  2            Breaking Dawn (The Twilight Saga, Book 4)        Stephenie Meyer   \n",
       "  4    Dead And Gone: A Sookie Stackhouse Novel (Sook...       Charlaine Harris   \n",
       "  5        Diary of a Wimpy Kid: The Last Straw (Book 3)            Jeff Kinney   \n",
       "  7    Dog Days (Diary of a Wimpy Kid, Book 4) (Volum...            Jeff Kinney   \n",
       "  10                            Eclipse (Twilight Sagas)        Stephenie Meyer   \n",
       "  ..                                                 ...                    ...   \n",
       "  693                        The Very Hungry Caterpillar             Eric Carle   \n",
       "  695                   The Wonderful Things You Will Be  Emily Winfield Martin   \n",
       "  696                                 Ugly Love: A Novel         Colleen Hoover   \n",
       "  697                                             Verity         Colleen Hoover   \n",
       "  699                            Where the Crawdads Sing            Delia Owens   \n",
       "  \n",
       "       User Rating  Reviews  Price($)  Year    Genre  \n",
       "  2            4.6     9769        13  2009  Fiction  \n",
       "  4            4.6     1541         4  2009  Fiction  \n",
       "  5            4.8     3837        15  2009  Fiction  \n",
       "  7            4.8     3181        12  2009  Fiction  \n",
       "  10           4.7     5505         7  2009  Fiction  \n",
       "  ..           ...      ...       ...   ...      ...  \n",
       "  693          4.9    47260         5  2022  Fiction  \n",
       "  695          4.9    20920         9  2022  Fiction  \n",
       "  696          4.7    33929        10  2022  Fiction  \n",
       "  697          4.6    71826        11  2022  Fiction  \n",
       "  699          4.8   208917        10  2022  Fiction  \n",
       "  \n",
       "  [312 rows x 7 columns]),\n",
       " ('Non Fiction',\n",
       "                                                    Name                 Author  \\\n",
       "  0    Act Like a Lady, Think Like a Man: What Men Re...           Steve Harvey   \n",
       "  1    Arguing with Idiots: How to Stop Small Minds a...             Glenn Beck   \n",
       "  3          Crazy Love: Overwhelmed by a Relentless God           Francis Chan   \n",
       "  6    Divine Soul Mind Body Healing and Transmission...           Zhi Gang Sha   \n",
       "  8    Eat This Not That! Supermarket Survival Guide:...        David Zinczenko   \n",
       "  ..                                                 ...                    ...   \n",
       "  684  The Great Reset: Joe Biden and the Rise of Twe...             Glenn Beck   \n",
       "  690  The Real Anthony Fauci: Bill Gates, Big Pharma...  Robert F. Kennedy Jr.   \n",
       "  692  The Subtle Art of Not Giving a F*ck: A Counter...            Mark Manson   \n",
       "  694  The Whole Body Reset: Your Weight-Loss Plan fo...        Stephen Perrine   \n",
       "  698               What to Expect When You're Expecting          Heidi Murkoff   \n",
       "  \n",
       "       User Rating  Reviews  Price($)  Year        Genre  \n",
       "  0            4.6     5013        17  2009  Non Fiction  \n",
       "  1            4.6      798         5  2009  Non Fiction  \n",
       "  3            4.7     1542        14  2009  Non Fiction  \n",
       "  6            4.6       37         6  2009  Non Fiction  \n",
       "  8            4.5      720         1  2009  Non Fiction  \n",
       "  ..           ...      ...       ...   ...          ...  \n",
       "  684          4.7     3098        18  2022  Non Fiction  \n",
       "  690          4.8    14575        20  2022  Non Fiction  \n",
       "  692          4.6    64073        14  2022  Non Fiction  \n",
       "  694          4.2      206        20  2022  Non Fiction  \n",
       "  698          4.8    27052        13  2022  Non Fiction  \n",
       "  \n",
       "  [388 rows x 7 columns])]"
      ]
     },
     "execution_count": 23,
     "metadata": {},
     "output_type": "execute_result"
    }
   ],
   "source": [
    "# Groupby Genre\n",
    "group = list(df.groupby(\"Genre\"))\n",
    "group"
   ]
  },
  {
   "cell_type": "code",
   "execution_count": 24,
   "id": "b701841b",
   "metadata": {
    "execution": {
     "iopub.execute_input": "2023-11-10T16:50:54.946093Z",
     "iopub.status.busy": "2023-11-10T16:50:54.945583Z",
     "iopub.status.idle": "2023-11-10T16:50:54.968107Z",
     "shell.execute_reply": "2023-11-10T16:50:54.966663Z"
    },
    "papermill": {
     "duration": 0.054818,
     "end_time": "2023-11-10T16:50:54.970751",
     "exception": false,
     "start_time": "2023-11-10T16:50:54.915933",
     "status": "completed"
    },
    "tags": []
   },
   "outputs": [
    {
     "data": {
      "text/html": [
       "<div>\n",
       "<style scoped>\n",
       "    .dataframe tbody tr th:only-of-type {\n",
       "        vertical-align: middle;\n",
       "    }\n",
       "\n",
       "    .dataframe tbody tr th {\n",
       "        vertical-align: top;\n",
       "    }\n",
       "\n",
       "    .dataframe thead th {\n",
       "        text-align: right;\n",
       "    }\n",
       "</style>\n",
       "<table border=\"1\" class=\"dataframe\">\n",
       "  <thead>\n",
       "    <tr style=\"text-align: right;\">\n",
       "      <th></th>\n",
       "      <th>Name</th>\n",
       "      <th>Author</th>\n",
       "      <th>User Rating</th>\n",
       "      <th>Reviews</th>\n",
       "      <th>Price($)</th>\n",
       "      <th>Year</th>\n",
       "      <th>Genre</th>\n",
       "    </tr>\n",
       "  </thead>\n",
       "  <tbody>\n",
       "    <tr>\n",
       "      <th>2</th>\n",
       "      <td>Breaking Dawn (The Twilight Saga, Book 4)</td>\n",
       "      <td>Stephenie Meyer</td>\n",
       "      <td>4.6</td>\n",
       "      <td>9769</td>\n",
       "      <td>13</td>\n",
       "      <td>2009</td>\n",
       "      <td>Fiction</td>\n",
       "    </tr>\n",
       "    <tr>\n",
       "      <th>4</th>\n",
       "      <td>Dead And Gone: A Sookie Stackhouse Novel (Sook...</td>\n",
       "      <td>Charlaine Harris</td>\n",
       "      <td>4.6</td>\n",
       "      <td>1541</td>\n",
       "      <td>4</td>\n",
       "      <td>2009</td>\n",
       "      <td>Fiction</td>\n",
       "    </tr>\n",
       "    <tr>\n",
       "      <th>5</th>\n",
       "      <td>Diary of a Wimpy Kid: The Last Straw (Book 3)</td>\n",
       "      <td>Jeff Kinney</td>\n",
       "      <td>4.8</td>\n",
       "      <td>3837</td>\n",
       "      <td>15</td>\n",
       "      <td>2009</td>\n",
       "      <td>Fiction</td>\n",
       "    </tr>\n",
       "    <tr>\n",
       "      <th>7</th>\n",
       "      <td>Dog Days (Diary of a Wimpy Kid, Book 4) (Volum...</td>\n",
       "      <td>Jeff Kinney</td>\n",
       "      <td>4.8</td>\n",
       "      <td>3181</td>\n",
       "      <td>12</td>\n",
       "      <td>2009</td>\n",
       "      <td>Fiction</td>\n",
       "    </tr>\n",
       "    <tr>\n",
       "      <th>10</th>\n",
       "      <td>Eclipse (Twilight Sagas)</td>\n",
       "      <td>Stephenie Meyer</td>\n",
       "      <td>4.7</td>\n",
       "      <td>5505</td>\n",
       "      <td>7</td>\n",
       "      <td>2009</td>\n",
       "      <td>Fiction</td>\n",
       "    </tr>\n",
       "    <tr>\n",
       "      <th>...</th>\n",
       "      <td>...</td>\n",
       "      <td>...</td>\n",
       "      <td>...</td>\n",
       "      <td>...</td>\n",
       "      <td>...</td>\n",
       "      <td>...</td>\n",
       "      <td>...</td>\n",
       "    </tr>\n",
       "    <tr>\n",
       "      <th>693</th>\n",
       "      <td>The Very Hungry Caterpillar</td>\n",
       "      <td>Eric Carle</td>\n",
       "      <td>4.9</td>\n",
       "      <td>47260</td>\n",
       "      <td>5</td>\n",
       "      <td>2022</td>\n",
       "      <td>Fiction</td>\n",
       "    </tr>\n",
       "    <tr>\n",
       "      <th>695</th>\n",
       "      <td>The Wonderful Things You Will Be</td>\n",
       "      <td>Emily Winfield Martin</td>\n",
       "      <td>4.9</td>\n",
       "      <td>20920</td>\n",
       "      <td>9</td>\n",
       "      <td>2022</td>\n",
       "      <td>Fiction</td>\n",
       "    </tr>\n",
       "    <tr>\n",
       "      <th>696</th>\n",
       "      <td>Ugly Love: A Novel</td>\n",
       "      <td>Colleen Hoover</td>\n",
       "      <td>4.7</td>\n",
       "      <td>33929</td>\n",
       "      <td>10</td>\n",
       "      <td>2022</td>\n",
       "      <td>Fiction</td>\n",
       "    </tr>\n",
       "    <tr>\n",
       "      <th>697</th>\n",
       "      <td>Verity</td>\n",
       "      <td>Colleen Hoover</td>\n",
       "      <td>4.6</td>\n",
       "      <td>71826</td>\n",
       "      <td>11</td>\n",
       "      <td>2022</td>\n",
       "      <td>Fiction</td>\n",
       "    </tr>\n",
       "    <tr>\n",
       "      <th>699</th>\n",
       "      <td>Where the Crawdads Sing</td>\n",
       "      <td>Delia Owens</td>\n",
       "      <td>4.8</td>\n",
       "      <td>208917</td>\n",
       "      <td>10</td>\n",
       "      <td>2022</td>\n",
       "      <td>Fiction</td>\n",
       "    </tr>\n",
       "  </tbody>\n",
       "</table>\n",
       "<p>312 rows × 7 columns</p>\n",
       "</div>"
      ],
      "text/plain": [
       "                                                  Name                 Author  \\\n",
       "2            Breaking Dawn (The Twilight Saga, Book 4)        Stephenie Meyer   \n",
       "4    Dead And Gone: A Sookie Stackhouse Novel (Sook...       Charlaine Harris   \n",
       "5        Diary of a Wimpy Kid: The Last Straw (Book 3)            Jeff Kinney   \n",
       "7    Dog Days (Diary of a Wimpy Kid, Book 4) (Volum...            Jeff Kinney   \n",
       "10                            Eclipse (Twilight Sagas)        Stephenie Meyer   \n",
       "..                                                 ...                    ...   \n",
       "693                        The Very Hungry Caterpillar             Eric Carle   \n",
       "695                   The Wonderful Things You Will Be  Emily Winfield Martin   \n",
       "696                                 Ugly Love: A Novel         Colleen Hoover   \n",
       "697                                             Verity         Colleen Hoover   \n",
       "699                            Where the Crawdads Sing            Delia Owens   \n",
       "\n",
       "     User Rating  Reviews  Price($)  Year    Genre  \n",
       "2            4.6     9769        13  2009  Fiction  \n",
       "4            4.6     1541         4  2009  Fiction  \n",
       "5            4.8     3837        15  2009  Fiction  \n",
       "7            4.8     3181        12  2009  Fiction  \n",
       "10           4.7     5505         7  2009  Fiction  \n",
       "..           ...      ...       ...   ...      ...  \n",
       "693          4.9    47260         5  2022  Fiction  \n",
       "695          4.9    20920         9  2022  Fiction  \n",
       "696          4.7    33929        10  2022  Fiction  \n",
       "697          4.6    71826        11  2022  Fiction  \n",
       "699          4.8   208917        10  2022  Fiction  \n",
       "\n",
       "[312 rows x 7 columns]"
      ]
     },
     "execution_count": 24,
     "metadata": {},
     "output_type": "execute_result"
    }
   ],
   "source": [
    "# Extraction first element of 0th index\n",
    "fiction = group[0][1]\n",
    "fiction"
   ]
  },
  {
   "cell_type": "code",
   "execution_count": 25,
   "id": "86c46b88",
   "metadata": {
    "execution": {
     "iopub.execute_input": "2023-11-10T16:50:55.030617Z",
     "iopub.status.busy": "2023-11-10T16:50:55.030164Z",
     "iopub.status.idle": "2023-11-10T16:50:55.049099Z",
     "shell.execute_reply": "2023-11-10T16:50:55.047648Z"
    },
    "papermill": {
     "duration": 0.052284,
     "end_time": "2023-11-10T16:50:55.051993",
     "exception": false,
     "start_time": "2023-11-10T16:50:54.999709",
     "status": "completed"
    },
    "tags": []
   },
   "outputs": [
    {
     "data": {
      "text/html": [
       "<div>\n",
       "<style scoped>\n",
       "    .dataframe tbody tr th:only-of-type {\n",
       "        vertical-align: middle;\n",
       "    }\n",
       "\n",
       "    .dataframe tbody tr th {\n",
       "        vertical-align: top;\n",
       "    }\n",
       "\n",
       "    .dataframe thead th {\n",
       "        text-align: right;\n",
       "    }\n",
       "</style>\n",
       "<table border=\"1\" class=\"dataframe\">\n",
       "  <thead>\n",
       "    <tr style=\"text-align: right;\">\n",
       "      <th></th>\n",
       "      <th>Name</th>\n",
       "      <th>Author</th>\n",
       "      <th>User Rating</th>\n",
       "      <th>Reviews</th>\n",
       "      <th>Price($)</th>\n",
       "      <th>Year</th>\n",
       "      <th>Genre</th>\n",
       "    </tr>\n",
       "  </thead>\n",
       "  <tbody>\n",
       "    <tr>\n",
       "      <th>0</th>\n",
       "      <td>I Love You to the Moon and Back</td>\n",
       "      <td>Amelia Hepworth</td>\n",
       "      <td>4.9</td>\n",
       "      <td>51188</td>\n",
       "      <td>4</td>\n",
       "      <td>2020</td>\n",
       "      <td>Fiction</td>\n",
       "    </tr>\n",
       "    <tr>\n",
       "      <th>1</th>\n",
       "      <td>I Love You to the Moon and Back</td>\n",
       "      <td>Amelia Hepworth</td>\n",
       "      <td>4.9</td>\n",
       "      <td>51188</td>\n",
       "      <td>4</td>\n",
       "      <td>2021</td>\n",
       "      <td>Fiction</td>\n",
       "    </tr>\n",
       "    <tr>\n",
       "      <th>2</th>\n",
       "      <td>I Love You to the Moon and Back</td>\n",
       "      <td>Amelia Hepworth</td>\n",
       "      <td>4.9</td>\n",
       "      <td>51188</td>\n",
       "      <td>4</td>\n",
       "      <td>2022</td>\n",
       "      <td>Fiction</td>\n",
       "    </tr>\n",
       "    <tr>\n",
       "      <th>3</th>\n",
       "      <td>The Very Hungry Caterpillar</td>\n",
       "      <td>Eric Carle</td>\n",
       "      <td>4.9</td>\n",
       "      <td>47260</td>\n",
       "      <td>5</td>\n",
       "      <td>2020</td>\n",
       "      <td>Fiction</td>\n",
       "    </tr>\n",
       "    <tr>\n",
       "      <th>4</th>\n",
       "      <td>The Very Hungry Caterpillar</td>\n",
       "      <td>Eric Carle</td>\n",
       "      <td>4.9</td>\n",
       "      <td>47260</td>\n",
       "      <td>5</td>\n",
       "      <td>2021</td>\n",
       "      <td>Fiction</td>\n",
       "    </tr>\n",
       "  </tbody>\n",
       "</table>\n",
       "</div>"
      ],
      "text/plain": [
       "                              Name           Author  User Rating  Reviews  \\\n",
       "0  I Love You to the Moon and Back  Amelia Hepworth          4.9    51188   \n",
       "1  I Love You to the Moon and Back  Amelia Hepworth          4.9    51188   \n",
       "2  I Love You to the Moon and Back  Amelia Hepworth          4.9    51188   \n",
       "3      The Very Hungry Caterpillar       Eric Carle          4.9    47260   \n",
       "4      The Very Hungry Caterpillar       Eric Carle          4.9    47260   \n",
       "\n",
       "   Price($)  Year    Genre  \n",
       "0         4  2020  Fiction  \n",
       "1         4  2021  Fiction  \n",
       "2         4  2022  Fiction  \n",
       "3         5  2020  Fiction  \n",
       "4         5  2021  Fiction  "
      ]
     },
     "execution_count": 25,
     "metadata": {},
     "output_type": "execute_result"
    }
   ],
   "source": [
    "fiction.sort_values(by = ['User Rating', 'Reviews'], ascending = False, na_position = 'first',ignore_index = True).head()"
   ]
  },
  {
   "cell_type": "markdown",
   "id": "31267fc7",
   "metadata": {
    "papermill": {
     "duration": 0.028926,
     "end_time": "2023-11-10T16:50:55.112835",
     "exception": false,
     "start_time": "2023-11-10T16:50:55.083909",
     "status": "completed"
    },
    "tags": []
   },
   "source": [
    "**d. What are the top 5 non - fictional book?**"
   ]
  },
  {
   "cell_type": "code",
   "execution_count": 26,
   "id": "4b1ff8c0",
   "metadata": {
    "execution": {
     "iopub.execute_input": "2023-11-10T16:50:55.181160Z",
     "iopub.status.busy": "2023-11-10T16:50:55.180519Z",
     "iopub.status.idle": "2023-11-10T16:50:55.206372Z",
     "shell.execute_reply": "2023-11-10T16:50:55.205105Z"
    },
    "papermill": {
     "duration": 0.066622,
     "end_time": "2023-11-10T16:50:55.209297",
     "exception": false,
     "start_time": "2023-11-10T16:50:55.142675",
     "status": "completed"
    },
    "tags": []
   },
   "outputs": [
    {
     "data": {
      "text/html": [
       "<div>\n",
       "<style scoped>\n",
       "    .dataframe tbody tr th:only-of-type {\n",
       "        vertical-align: middle;\n",
       "    }\n",
       "\n",
       "    .dataframe tbody tr th {\n",
       "        vertical-align: top;\n",
       "    }\n",
       "\n",
       "    .dataframe thead th {\n",
       "        text-align: right;\n",
       "    }\n",
       "</style>\n",
       "<table border=\"1\" class=\"dataframe\">\n",
       "  <thead>\n",
       "    <tr style=\"text-align: right;\">\n",
       "      <th></th>\n",
       "      <th>Name</th>\n",
       "      <th>Author</th>\n",
       "      <th>User Rating</th>\n",
       "      <th>Reviews</th>\n",
       "      <th>Price($)</th>\n",
       "      <th>Year</th>\n",
       "      <th>Genre</th>\n",
       "    </tr>\n",
       "  </thead>\n",
       "  <tbody>\n",
       "    <tr>\n",
       "      <th>0</th>\n",
       "      <td>Act Like a Lady, Think Like a Man: What Men Re...</td>\n",
       "      <td>Steve Harvey</td>\n",
       "      <td>4.6</td>\n",
       "      <td>5013</td>\n",
       "      <td>17</td>\n",
       "      <td>2009</td>\n",
       "      <td>Non Fiction</td>\n",
       "    </tr>\n",
       "    <tr>\n",
       "      <th>1</th>\n",
       "      <td>Arguing with Idiots: How to Stop Small Minds a...</td>\n",
       "      <td>Glenn Beck</td>\n",
       "      <td>4.6</td>\n",
       "      <td>798</td>\n",
       "      <td>5</td>\n",
       "      <td>2009</td>\n",
       "      <td>Non Fiction</td>\n",
       "    </tr>\n",
       "    <tr>\n",
       "      <th>3</th>\n",
       "      <td>Crazy Love: Overwhelmed by a Relentless God</td>\n",
       "      <td>Francis Chan</td>\n",
       "      <td>4.7</td>\n",
       "      <td>1542</td>\n",
       "      <td>14</td>\n",
       "      <td>2009</td>\n",
       "      <td>Non Fiction</td>\n",
       "    </tr>\n",
       "    <tr>\n",
       "      <th>6</th>\n",
       "      <td>Divine Soul Mind Body Healing and Transmission...</td>\n",
       "      <td>Zhi Gang Sha</td>\n",
       "      <td>4.6</td>\n",
       "      <td>37</td>\n",
       "      <td>6</td>\n",
       "      <td>2009</td>\n",
       "      <td>Non Fiction</td>\n",
       "    </tr>\n",
       "    <tr>\n",
       "      <th>8</th>\n",
       "      <td>Eat This Not That! Supermarket Survival Guide:...</td>\n",
       "      <td>David Zinczenko</td>\n",
       "      <td>4.5</td>\n",
       "      <td>720</td>\n",
       "      <td>1</td>\n",
       "      <td>2009</td>\n",
       "      <td>Non Fiction</td>\n",
       "    </tr>\n",
       "    <tr>\n",
       "      <th>...</th>\n",
       "      <td>...</td>\n",
       "      <td>...</td>\n",
       "      <td>...</td>\n",
       "      <td>...</td>\n",
       "      <td>...</td>\n",
       "      <td>...</td>\n",
       "      <td>...</td>\n",
       "    </tr>\n",
       "    <tr>\n",
       "      <th>684</th>\n",
       "      <td>The Great Reset: Joe Biden and the Rise of Twe...</td>\n",
       "      <td>Glenn Beck</td>\n",
       "      <td>4.7</td>\n",
       "      <td>3098</td>\n",
       "      <td>18</td>\n",
       "      <td>2022</td>\n",
       "      <td>Non Fiction</td>\n",
       "    </tr>\n",
       "    <tr>\n",
       "      <th>690</th>\n",
       "      <td>The Real Anthony Fauci: Bill Gates, Big Pharma...</td>\n",
       "      <td>Robert F. Kennedy Jr.</td>\n",
       "      <td>4.8</td>\n",
       "      <td>14575</td>\n",
       "      <td>20</td>\n",
       "      <td>2022</td>\n",
       "      <td>Non Fiction</td>\n",
       "    </tr>\n",
       "    <tr>\n",
       "      <th>692</th>\n",
       "      <td>The Subtle Art of Not Giving a F*ck: A Counter...</td>\n",
       "      <td>Mark Manson</td>\n",
       "      <td>4.6</td>\n",
       "      <td>64073</td>\n",
       "      <td>14</td>\n",
       "      <td>2022</td>\n",
       "      <td>Non Fiction</td>\n",
       "    </tr>\n",
       "    <tr>\n",
       "      <th>694</th>\n",
       "      <td>The Whole Body Reset: Your Weight-Loss Plan fo...</td>\n",
       "      <td>Stephen Perrine</td>\n",
       "      <td>4.2</td>\n",
       "      <td>206</td>\n",
       "      <td>20</td>\n",
       "      <td>2022</td>\n",
       "      <td>Non Fiction</td>\n",
       "    </tr>\n",
       "    <tr>\n",
       "      <th>698</th>\n",
       "      <td>What to Expect When You're Expecting</td>\n",
       "      <td>Heidi Murkoff</td>\n",
       "      <td>4.8</td>\n",
       "      <td>27052</td>\n",
       "      <td>13</td>\n",
       "      <td>2022</td>\n",
       "      <td>Non Fiction</td>\n",
       "    </tr>\n",
       "  </tbody>\n",
       "</table>\n",
       "<p>388 rows × 7 columns</p>\n",
       "</div>"
      ],
      "text/plain": [
       "                                                  Name                 Author  \\\n",
       "0    Act Like a Lady, Think Like a Man: What Men Re...           Steve Harvey   \n",
       "1    Arguing with Idiots: How to Stop Small Minds a...             Glenn Beck   \n",
       "3          Crazy Love: Overwhelmed by a Relentless God           Francis Chan   \n",
       "6    Divine Soul Mind Body Healing and Transmission...           Zhi Gang Sha   \n",
       "8    Eat This Not That! Supermarket Survival Guide:...        David Zinczenko   \n",
       "..                                                 ...                    ...   \n",
       "684  The Great Reset: Joe Biden and the Rise of Twe...             Glenn Beck   \n",
       "690  The Real Anthony Fauci: Bill Gates, Big Pharma...  Robert F. Kennedy Jr.   \n",
       "692  The Subtle Art of Not Giving a F*ck: A Counter...            Mark Manson   \n",
       "694  The Whole Body Reset: Your Weight-Loss Plan fo...        Stephen Perrine   \n",
       "698               What to Expect When You're Expecting          Heidi Murkoff   \n",
       "\n",
       "     User Rating  Reviews  Price($)  Year        Genre  \n",
       "0            4.6     5013        17  2009  Non Fiction  \n",
       "1            4.6      798         5  2009  Non Fiction  \n",
       "3            4.7     1542        14  2009  Non Fiction  \n",
       "6            4.6       37         6  2009  Non Fiction  \n",
       "8            4.5      720         1  2009  Non Fiction  \n",
       "..           ...      ...       ...   ...          ...  \n",
       "684          4.7     3098        18  2022  Non Fiction  \n",
       "690          4.8    14575        20  2022  Non Fiction  \n",
       "692          4.6    64073        14  2022  Non Fiction  \n",
       "694          4.2      206        20  2022  Non Fiction  \n",
       "698          4.8    27052        13  2022  Non Fiction  \n",
       "\n",
       "[388 rows x 7 columns]"
      ]
     },
     "execution_count": 26,
     "metadata": {},
     "output_type": "execute_result"
    }
   ],
   "source": [
    "# Extraction first element of 1st index\n",
    "non_fiction = group[1][1]\n",
    "non_fiction"
   ]
  },
  {
   "cell_type": "code",
   "execution_count": 27,
   "id": "db5c70af",
   "metadata": {
    "execution": {
     "iopub.execute_input": "2023-11-10T16:50:55.273914Z",
     "iopub.status.busy": "2023-11-10T16:50:55.273451Z",
     "iopub.status.idle": "2023-11-10T16:50:55.291569Z",
     "shell.execute_reply": "2023-11-10T16:50:55.290473Z"
    },
    "papermill": {
     "duration": 0.051681,
     "end_time": "2023-11-10T16:50:55.294223",
     "exception": false,
     "start_time": "2023-11-10T16:50:55.242542",
     "status": "completed"
    },
    "tags": []
   },
   "outputs": [
    {
     "data": {
      "text/html": [
       "<div>\n",
       "<style scoped>\n",
       "    .dataframe tbody tr th:only-of-type {\n",
       "        vertical-align: middle;\n",
       "    }\n",
       "\n",
       "    .dataframe tbody tr th {\n",
       "        vertical-align: top;\n",
       "    }\n",
       "\n",
       "    .dataframe thead th {\n",
       "        text-align: right;\n",
       "    }\n",
       "</style>\n",
       "<table border=\"1\" class=\"dataframe\">\n",
       "  <thead>\n",
       "    <tr style=\"text-align: right;\">\n",
       "      <th></th>\n",
       "      <th>Name</th>\n",
       "      <th>Author</th>\n",
       "      <th>User Rating</th>\n",
       "      <th>Reviews</th>\n",
       "      <th>Price($)</th>\n",
       "      <th>Year</th>\n",
       "      <th>Genre</th>\n",
       "    </tr>\n",
       "  </thead>\n",
       "  <tbody>\n",
       "    <tr>\n",
       "      <th>0</th>\n",
       "      <td>A Promised Land</td>\n",
       "      <td>Barack Obama</td>\n",
       "      <td>4.9</td>\n",
       "      <td>121109</td>\n",
       "      <td>16</td>\n",
       "      <td>2020</td>\n",
       "      <td>Non Fiction</td>\n",
       "    </tr>\n",
       "    <tr>\n",
       "      <th>1</th>\n",
       "      <td>American Marxism</td>\n",
       "      <td>Mark R. Levin</td>\n",
       "      <td>4.9</td>\n",
       "      <td>29510</td>\n",
       "      <td>14</td>\n",
       "      <td>2021</td>\n",
       "      <td>Non Fiction</td>\n",
       "    </tr>\n",
       "    <tr>\n",
       "      <th>2</th>\n",
       "      <td>Magnolia Table, Volume 2: A Collection of Reci...</td>\n",
       "      <td>Joanna Gaines</td>\n",
       "      <td>4.9</td>\n",
       "      <td>24352</td>\n",
       "      <td>17</td>\n",
       "      <td>2020</td>\n",
       "      <td>Non Fiction</td>\n",
       "    </tr>\n",
       "    <tr>\n",
       "      <th>3</th>\n",
       "      <td>Jesus Calling: Enjoying Peace in His Presence ...</td>\n",
       "      <td>Sarah Young</td>\n",
       "      <td>4.9</td>\n",
       "      <td>19576</td>\n",
       "      <td>8</td>\n",
       "      <td>2011</td>\n",
       "      <td>Non Fiction</td>\n",
       "    </tr>\n",
       "    <tr>\n",
       "      <th>4</th>\n",
       "      <td>Jesus Calling: Enjoying Peace in His Presence ...</td>\n",
       "      <td>Sarah Young</td>\n",
       "      <td>4.9</td>\n",
       "      <td>19576</td>\n",
       "      <td>8</td>\n",
       "      <td>2012</td>\n",
       "      <td>Non Fiction</td>\n",
       "    </tr>\n",
       "  </tbody>\n",
       "</table>\n",
       "</div>"
      ],
      "text/plain": [
       "                                                Name         Author  \\\n",
       "0                                    A Promised Land   Barack Obama   \n",
       "1                                   American Marxism  Mark R. Levin   \n",
       "2  Magnolia Table, Volume 2: A Collection of Reci...  Joanna Gaines   \n",
       "3  Jesus Calling: Enjoying Peace in His Presence ...    Sarah Young   \n",
       "4  Jesus Calling: Enjoying Peace in His Presence ...    Sarah Young   \n",
       "\n",
       "   User Rating  Reviews  Price($)  Year        Genre  \n",
       "0          4.9   121109        16  2020  Non Fiction  \n",
       "1          4.9    29510        14  2021  Non Fiction  \n",
       "2          4.9    24352        17  2020  Non Fiction  \n",
       "3          4.9    19576         8  2011  Non Fiction  \n",
       "4          4.9    19576         8  2012  Non Fiction  "
      ]
     },
     "execution_count": 27,
     "metadata": {},
     "output_type": "execute_result"
    }
   ],
   "source": [
    "non_fiction.sort_values(by = ['User Rating', 'Reviews'], ascending = False, na_position = 'first',ignore_index = True).head()"
   ]
  },
  {
   "cell_type": "markdown",
   "id": "d2e7396b",
   "metadata": {
    "papermill": {
     "duration": 0.029714,
     "end_time": "2023-11-10T16:50:55.354407",
     "exception": false,
     "start_time": "2023-11-10T16:50:55.324693",
     "status": "completed"
    },
    "tags": []
   },
   "source": [
    "# 5. Conclusions"
   ]
  },
  {
   "cell_type": "markdown",
   "id": "ca688db6",
   "metadata": {
    "papermill": {
     "duration": 0.029596,
     "end_time": "2023-11-10T16:50:55.414700",
     "exception": false,
     "start_time": "2023-11-10T16:50:55.385104",
     "status": "completed"
    },
    "tags": []
   },
   "source": [
    "Buying books online allow us to save some serious money along with time and introduces us to a huge variety of books that we may not even know exist. Amazon is one of the top online marketplace and a paradise for book lovers.It is one of the best places to begin your book search for each and every genre at affordable prices. It also let us get involved in discussions, reviews, and active conversation. Usually Rating and Review of books and authors are considered as important factors to decide the popularity among the readers. \n",
    "\n",
    "The dataset at hands reveals vital information regarding the top 50 best seller books from 2009-2022, which are as follows:\n",
    " \n",
    "* **Books are categorized into fiction and non-fictional genres**\n",
    "* **Non-Fictional books are popular amongst the users as it accounts 55 percentage of total books rated and reviewed**\n",
    "* **Non-Fictional books are preferred over fictional books in each year except for the year 2022**\n",
    "* **Authors, Gary Chapman and Jeff Kinney has published 14 books followed by Suzanne Collins who has published 12 books in the span of 14 years**\n",
    "* **\"Publication Manual of the American Psychological Association\" by American Psychological Association and \"The Very Hungry Caterpillar\", a children’s picture book designed, illustrated, and written by Eric Carle were published 10 times and among top 50 Amazon best sellers**\n",
    "* **\"Where the Crawdads Sing\", a murder mystery novel by American author Delia Owens is celebrated and most reviewed book with more than 5 lakhs reviews by users**\n",
    "* **\"The Casual Vacancy\",a novel written by J.K. Rowling didnt succeed to catch reader's eye as compared to other books**\t\n",
    "* **\"I Love You to the Moon and Back\" written by Amelia Hepworth is most liked, rated and reviewed fictional children book**\n",
    "* **\"A Promised Land\", a memoir by Barack Obama has won the heart of readers with an incredible user rating of 4.9 and reviews of more than 1 lakh in the year 2020 under the category of non-fictional novels**\n"
   ]
  },
  {
   "cell_type": "markdown",
   "id": "14fd70ee",
   "metadata": {
    "papermill": {
     "duration": 0.0292,
     "end_time": "2023-11-10T16:50:55.474619",
     "exception": false,
     "start_time": "2023-11-10T16:50:55.445419",
     "status": "completed"
    },
    "tags": []
   },
   "source": [
    "# References\n",
    "\n",
    "**Dataset:**\n",
    "https://www.kaggle.com/datasets/chriskachmar/amazon-top-50-bestselling-books-2009-2022\n",
    "\n",
    "**Piechart:**\n",
    "https://www.askpython.com/python/plot-customize-pie-chart-in-python\n",
    "\n",
    "**Barplot:**\n",
    "https://likegeeks.com/seaborn-barplot/ \n"
   ]
  }
 ],
 "metadata": {
  "kernelspec": {
   "display_name": "Python 3",
   "language": "python",
   "name": "python3"
  },
  "language_info": {
   "codemirror_mode": {
    "name": "ipython",
    "version": 3
   },
   "file_extension": ".py",
   "mimetype": "text/x-python",
   "name": "python",
   "nbconvert_exporter": "python",
   "pygments_lexer": "ipython3",
   "version": "3.7.12"
  },
  "papermill": {
   "default_parameters": {},
   "duration": 18.448988,
   "end_time": "2023-11-10T16:50:56.227410",
   "environment_variables": {},
   "exception": null,
   "input_path": "__notebook__.ipynb",
   "output_path": "__notebook__.ipynb",
   "parameters": {},
   "start_time": "2023-11-10T16:50:37.778422",
   "version": "2.3.4"
  }
 },
 "nbformat": 4,
 "nbformat_minor": 5
}
